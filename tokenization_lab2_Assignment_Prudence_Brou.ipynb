{
  "cells": [
    {
      "cell_type": "markdown",
      "metadata": {
        "id": "view-in-github",
        "colab_type": "text"
      },
      "source": [
        "<a href=\"https://colab.research.google.com/github/prupat/interactivedataviz/blob/main/tokenization_lab2_Assignment_Prudence_Brou.ipynb\" target=\"_parent\"><img src=\"https://colab.research.google.com/assets/colab-badge.svg\" alt=\"Open In Colab\"/></a>"
      ]
    },
    {
      "cell_type": "markdown",
      "id": "bd47efac",
      "metadata": {
        "id": "bd47efac"
      },
      "source": [
        "You will be using the `datasets` package. You can [install the package](https://pypi.org/project/datasets/) with `$ pip install datasets`. If you do not have `pip` or `conda` installed on your machine, please install it now."
      ]
    },
    {
      "cell_type": "code",
      "source": [
        "pip install datasets"
      ],
      "metadata": {
        "colab": {
          "base_uri": "https://localhost:8080/"
        },
        "id": "uynlbB33X3zc",
        "outputId": "b8f70c63-597a-4e6c-d5ab-d3121a287f49"
      },
      "id": "uynlbB33X3zc",
      "execution_count": null,
      "outputs": [
        {
          "output_type": "stream",
          "name": "stdout",
          "text": [
            "Collecting datasets\n",
            "  Downloading datasets-2.14.5-py3-none-any.whl (519 kB)\n",
            "\u001b[2K     \u001b[90m━━━━━━━━━━━━━━━━━━━━━━━━━━━━━━━━━━━━━━━\u001b[0m \u001b[32m519.6/519.6 kB\u001b[0m \u001b[31m6.1 MB/s\u001b[0m eta \u001b[36m0:00:00\u001b[0m\n",
            "\u001b[?25hRequirement already satisfied: numpy>=1.17 in /usr/local/lib/python3.10/dist-packages (from datasets) (1.23.5)\n",
            "Requirement already satisfied: pyarrow>=8.0.0 in /usr/local/lib/python3.10/dist-packages (from datasets) (9.0.0)\n",
            "Collecting dill<0.3.8,>=0.3.0 (from datasets)\n",
            "  Downloading dill-0.3.7-py3-none-any.whl (115 kB)\n",
            "\u001b[2K     \u001b[90m━━━━━━━━━━━━━━━━━━━━━━━━━━━━━━━━━━━━━━\u001b[0m \u001b[32m115.3/115.3 kB\u001b[0m \u001b[31m11.5 MB/s\u001b[0m eta \u001b[36m0:00:00\u001b[0m\n",
            "\u001b[?25hRequirement already satisfied: pandas in /usr/local/lib/python3.10/dist-packages (from datasets) (1.5.3)\n",
            "Requirement already satisfied: requests>=2.19.0 in /usr/local/lib/python3.10/dist-packages (from datasets) (2.31.0)\n",
            "Requirement already satisfied: tqdm>=4.62.1 in /usr/local/lib/python3.10/dist-packages (from datasets) (4.66.1)\n",
            "Collecting xxhash (from datasets)\n",
            "  Downloading xxhash-3.3.0-cp310-cp310-manylinux_2_17_x86_64.manylinux2014_x86_64.whl (194 kB)\n",
            "\u001b[2K     \u001b[90m━━━━━━━━━━━━━━━━━━━━━━━━━━━━━━━━━━━━━━━\u001b[0m \u001b[32m194.1/194.1 kB\u001b[0m \u001b[31m9.0 MB/s\u001b[0m eta \u001b[36m0:00:00\u001b[0m\n",
            "\u001b[?25hCollecting multiprocess (from datasets)\n",
            "  Downloading multiprocess-0.70.15-py310-none-any.whl (134 kB)\n",
            "\u001b[2K     \u001b[90m━━━━━━━━━━━━━━━━━━━━━━━━━━━━━━━━━━━━━━\u001b[0m \u001b[32m134.8/134.8 kB\u001b[0m \u001b[31m11.4 MB/s\u001b[0m eta \u001b[36m0:00:00\u001b[0m\n",
            "\u001b[?25hRequirement already satisfied: fsspec[http]<2023.9.0,>=2023.1.0 in /usr/local/lib/python3.10/dist-packages (from datasets) (2023.6.0)\n",
            "Requirement already satisfied: aiohttp in /usr/local/lib/python3.10/dist-packages (from datasets) (3.8.5)\n",
            "Collecting huggingface-hub<1.0.0,>=0.14.0 (from datasets)\n",
            "  Downloading huggingface_hub-0.17.1-py3-none-any.whl (294 kB)\n",
            "\u001b[2K     \u001b[90m━━━━━━━━━━━━━━━━━━━━━━━━━━━━━━━━━━━━━━━\u001b[0m \u001b[32m294.8/294.8 kB\u001b[0m \u001b[31m9.3 MB/s\u001b[0m eta \u001b[36m0:00:00\u001b[0m\n",
            "\u001b[?25hRequirement already satisfied: packaging in /usr/local/lib/python3.10/dist-packages (from datasets) (23.1)\n",
            "Requirement already satisfied: pyyaml>=5.1 in /usr/local/lib/python3.10/dist-packages (from datasets) (6.0.1)\n",
            "Requirement already satisfied: attrs>=17.3.0 in /usr/local/lib/python3.10/dist-packages (from aiohttp->datasets) (23.1.0)\n",
            "Requirement already satisfied: charset-normalizer<4.0,>=2.0 in /usr/local/lib/python3.10/dist-packages (from aiohttp->datasets) (3.2.0)\n",
            "Requirement already satisfied: multidict<7.0,>=4.5 in /usr/local/lib/python3.10/dist-packages (from aiohttp->datasets) (6.0.4)\n",
            "Requirement already satisfied: async-timeout<5.0,>=4.0.0a3 in /usr/local/lib/python3.10/dist-packages (from aiohttp->datasets) (4.0.3)\n",
            "Requirement already satisfied: yarl<2.0,>=1.0 in /usr/local/lib/python3.10/dist-packages (from aiohttp->datasets) (1.9.2)\n",
            "Requirement already satisfied: frozenlist>=1.1.1 in /usr/local/lib/python3.10/dist-packages (from aiohttp->datasets) (1.4.0)\n",
            "Requirement already satisfied: aiosignal>=1.1.2 in /usr/local/lib/python3.10/dist-packages (from aiohttp->datasets) (1.3.1)\n",
            "Requirement already satisfied: filelock in /usr/local/lib/python3.10/dist-packages (from huggingface-hub<1.0.0,>=0.14.0->datasets) (3.12.2)\n",
            "Requirement already satisfied: typing-extensions>=3.7.4.3 in /usr/local/lib/python3.10/dist-packages (from huggingface-hub<1.0.0,>=0.14.0->datasets) (4.5.0)\n",
            "Requirement already satisfied: idna<4,>=2.5 in /usr/local/lib/python3.10/dist-packages (from requests>=2.19.0->datasets) (3.4)\n",
            "Requirement already satisfied: urllib3<3,>=1.21.1 in /usr/local/lib/python3.10/dist-packages (from requests>=2.19.0->datasets) (2.0.4)\n",
            "Requirement already satisfied: certifi>=2017.4.17 in /usr/local/lib/python3.10/dist-packages (from requests>=2.19.0->datasets) (2023.7.22)\n",
            "Requirement already satisfied: python-dateutil>=2.8.1 in /usr/local/lib/python3.10/dist-packages (from pandas->datasets) (2.8.2)\n",
            "Requirement already satisfied: pytz>=2020.1 in /usr/local/lib/python3.10/dist-packages (from pandas->datasets) (2023.3.post1)\n",
            "Requirement already satisfied: six>=1.5 in /usr/local/lib/python3.10/dist-packages (from python-dateutil>=2.8.1->pandas->datasets) (1.16.0)\n",
            "Installing collected packages: xxhash, dill, multiprocess, huggingface-hub, datasets\n",
            "Successfully installed datasets-2.14.5 dill-0.3.7 huggingface-hub-0.17.1 multiprocess-0.70.15 xxhash-3.3.0\n"
          ]
        }
      ]
    },
    {
      "cell_type": "code",
      "execution_count": null,
      "id": "5c7e72fd",
      "metadata": {
        "id": "5c7e72fd"
      },
      "outputs": [],
      "source": [
        "import nltk\n",
        "import timeit\n",
        "from datasets import load_dataset"
      ]
    },
    {
      "cell_type": "markdown",
      "id": "420d2c62",
      "metadata": {
        "id": "420d2c62"
      },
      "source": [
        "The next cell is just downloading the dataset. You need to be connected to the internet for this to work.\n",
        "\n",
        "This dataset is hosted by [Hugging Face](https://huggingface.co). Hugging Face hosts machine learning models, datasets, and more. We will reference them again. It's a great place to find corpora.\n",
        "\n",
        "\n",
        "The dataset is called [American Stories](https://huggingface.co/datasets/dell-research-harvard/AmericanStories). Please skim the Dataset Card. All models and datasets on the Hugging Face hub have these associated cards."
      ]
    },
    {
      "cell_type": "code",
      "execution_count": 9,
      "id": "a36427c2",
      "metadata": {
        "id": "a36427c2",
        "outputId": "a60847ca-7b5e-4164-f8c0-739a31fd3d47",
        "colab": {
          "referenced_widgets": [
            "913f4623f377480b99cbf422d1bcb628",
            "242bde392ea0496b81c2a42de609bb4a",
            "8c2e938f8ff14f828986456b57454ad4",
            "70f846d322f04c29865361c47081f5cc",
            "da300b879e27401a8e8fad6e2bf60bee",
            "9ebf2e82b465497faca20399cc2d48b7",
            "6b8c3e1b8f5547c4930d34471d204298",
            "7173f19c6a0240bb98c40a1396e776ec",
            "93bc4963ebbd44e892fb52f619653da3",
            "86dbd58c2d574ea2bae1e96de0323e3b",
            "b49d33685a31418eb89a1fc8ad69209a",
            "fc9abb42fc184d9785a301f1e319c0ea",
            "d3b507672d594991954f1d7fb63f15fa",
            "603059610cdd45d0a7943d26550888c4",
            "6db211bfa5324141a384fd0ce109389b",
            "2377dbb6aef340628f77aec71e77b1f4",
            "1d49f505d5bb4dfaa149c76802ebfb2f",
            "cb69461549f0495c8cd09825e9002af9",
            "fcb6d4d479f54867a3cc2e5a875c3015",
            "e60badeeaef24498a8374c9dcdb59d0c",
            "c0764ced98f24c12acf2c2b36c15eba3",
            "631c107486f849b3829b17eb378a8822",
            "2224c7720e3e407f88299b2310fe8e4c",
            "16f2661e43404cb3893214592fb7fcee",
            "2d7b2507609f4238b49efad8a59c90d6",
            "03a88037e20a4475a9f3df9884d68404",
            "15bc1cefde6f4db6b7b25a76c92e674c",
            "55e20bc4442044548a67e5478f3ed7f8",
            "12f7dcc29fd14342a2c3b6b31c3c17b3",
            "b5255741c73041dc839ba001c34ab8fd",
            "e2846203ff664ac1870cb224f4eb6f59",
            "850dacf4327c4ad693b19faa080b7a8c",
            "7db8326c3ee94cfa83b51937ebc80481"
          ],
          "base_uri": "https://localhost:8080/",
          "height": 894
        }
      },
      "outputs": [
        {
          "output_type": "stream",
          "name": "stdout",
          "text": [
            "Only taking a subset of years. Change name to 'all_years' to use all years in the dataset.\n",
            "{'1961': 'https://huggingface.co/datasets/dell-research-harvard/AmericanStories/resolve/main/faro_1961.tar.gz'}\n"
          ]
        },
        {
          "output_type": "display_data",
          "data": {
            "text/plain": [
              "Downloading data files:   0%|          | 0/1 [00:00<?, ?it/s]"
            ],
            "application/vnd.jupyter.widget-view+json": {
              "version_major": 2,
              "version_minor": 0,
              "model_id": "913f4623f377480b99cbf422d1bcb628"
            }
          },
          "metadata": {}
        },
        {
          "output_type": "display_data",
          "data": {
            "text/plain": [
              "Downloading data:   0%|          | 0.00/252M [00:00<?, ?B/s]"
            ],
            "application/vnd.jupyter.widget-view+json": {
              "version_major": 2,
              "version_minor": 0,
              "model_id": "fc9abb42fc184d9785a301f1e319c0ea"
            }
          },
          "metadata": {}
        },
        {
          "output_type": "display_data",
          "data": {
            "text/plain": [
              "Generating 1961 split: 0 examples [00:00, ? examples/s]"
            ],
            "application/vnd.jupyter.widget-view+json": {
              "version_major": 2,
              "version_minor": 0,
              "model_id": "2224c7720e3e407f88299b2310fe8e4c"
            }
          },
          "metadata": {}
        },
        {
          "output_type": "stream",
          "name": "stdout",
          "text": [
            "Loading associated\n",
            "Ground-breaking ceremonies\n",
            "for a new gymnaSium-science\n",
            "building were held yesterday\n",
            "as part of 50th anniversary\n",
            "proceedings at the Maret\n",
            "School, 5000 Cathedral avenue\n",
            "NV.\n",
            "\n",
            "\n",
            "The building is scheduled to\n",
            "have the gym and an audi\n",
            "torium on the first floor. with\n",
            "music and science facilities on\n",
            "the second floor. Attending\n",
            "the ceremonies with the princi-\n",
            "pal, Mrs. Edward Williams,\n",
            "were K. w. Heberton, president\n",
            "of the Parents Club, Mrs. John\n",
            "L. Laskey, president Of the\n",
            "board of trustees and Mrs.\n",
            "Arthur Lowe, president of the\n",
            "alumni association.will steer down at is m.p.h.\n",
            "to a target-landing in front\n",
            "of the spectators. The per-\n",
            "formers are Navy volunteers\n",
            "who ordinarily work at the\n",
            "parachute test facility at El\n",
            "Centre, Calf.\n",
            "\n",
            "\n",
            "Other demonstrations and\n",
            "displays by other services will\n",
            "be included in the show.general public. Free parking\n",
            "will be provided for $4,000 cars\n",
            "at the air base, II miles from\n",
            "Washington out the Suitland\n",
            "parkway. The gates open at\n",
            "1890 am, May Is, and at noon,\n",
            "May IA.\n",
            "\n",
            "\n",
            "\n"
          ]
        }
      ],
      "source": [
        "# Decide what year you want between 1810 and 1963\n",
        "\n",
        "my_year = \"1961\"\n",
        "\n",
        "# Decide how many articles you want to work with\n",
        "num_articles = 5\n",
        "\n",
        "#  Download data for your choice of year (1810 to 1963)\n",
        "dataset = load_dataset(\"dell-research-harvard/AmericanStories\",\n",
        "    \"subset_years\",\n",
        "    year_list=[my_year]\n",
        ")\n",
        "\n",
        "# Get the first n articles from that year\n",
        "# instantiate the counter\n",
        "i=0\n",
        "# instantiate the string\n",
        "my_articles = ''\n",
        "# loop through each article for that year\n",
        "for article in dataset[my_year]:\n",
        "    #the article is a dictionary,\n",
        "    #we're getting the text of the article by accessing the key, \"article\"\n",
        "    my_articles += article.get('article')\n",
        "    #add one to our counter\n",
        "    i+=1\n",
        "    #if the counter is greater than num_articles-1, stop looping\n",
        "    if i>(num_articles-1): break\n",
        "\n",
        "#validate that it is what we expect by checking on first 100 characters\n",
        "print(my_articles[:1000])\n"
      ]
    },
    {
      "cell_type": "code",
      "execution_count": 10,
      "id": "2de5a622",
      "metadata": {
        "id": "2de5a622",
        "outputId": "4fcfd508-e39e-4637-f76a-a5e85f15eb76",
        "colab": {
          "base_uri": "https://localhost:8080/",
          "height": 105
        }
      },
      "outputs": [
        {
          "output_type": "execute_result",
          "data": {
            "text/plain": [
              "'Ground-breaking ceremonies for a new gymnaSium-science building were held yesterday as part of 50th anniversary proceedings at the Maret School, 5000 Cathedral avenue NV.   The building is scheduled to have the gym and an audi torium on the first floor. with music and science facilities on the second floor. Attending the ceremonies with the princi- pal, Mrs. Edward Williams, were K. w. Heberton, president of the Parents Club, Mrs. John L. Laskey, president Of the board of trustees and Mrs. Arthur Lowe, president of the alumni association.will steer down at is m.p.h. to a target-landing in front of the spectators. The per- formers are Navy volunteers who ordinarily work at the parachute test facility at El Centre, Calf.   Other demonstrations and displays by other services will be included in the show.general public. Free parking will be provided for $4,000 cars at the air base, II miles from Washington out the Suitland parkway. The gates open at 1890 am, May Is, and at noon, May IA.   '"
            ],
            "application/vnd.google.colaboratory.intrinsic+json": {
              "type": "string"
            }
          },
          "metadata": {},
          "execution_count": 10
        }
      ],
      "source": [
        "#remove new line and other formatting characters\n",
        "for char in [\"\\n\", \"\\r\", \"\\d\", \"\\t\"]:\n",
        "    my_articles = my_articles.replace(char, \" \")\n",
        "my_articles[:1000]"
      ]
    },
    {
      "cell_type": "markdown",
      "id": "7e522efd",
      "metadata": {
        "id": "7e522efd"
      },
      "source": [
        "# Whitespace tokenization\n"
      ]
    },
    {
      "cell_type": "code",
      "execution_count": 11,
      "id": "00d1404f",
      "metadata": {
        "id": "00d1404f",
        "outputId": "4e0628af-8585-468b-a4c5-bd3f5024343d",
        "colab": {
          "base_uri": "https://localhost:8080/"
        }
      },
      "outputs": [
        {
          "output_type": "stream",
          "name": "stdout",
          "text": [
            "CPU times: user 94 µs, sys: 0 ns, total: 94 µs\n",
            "Wall time: 110 µs\n"
          ]
        },
        {
          "output_type": "execute_result",
          "data": {
            "text/plain": [
              "['Ground-breaking',\n",
              " 'ceremonies',\n",
              " 'for',\n",
              " 'a',\n",
              " 'new',\n",
              " 'gymnaSium-science',\n",
              " 'building',\n",
              " 'were',\n",
              " 'held',\n",
              " 'yesterday',\n",
              " 'as',\n",
              " 'part',\n",
              " 'of',\n",
              " '50th',\n",
              " 'anniversary',\n",
              " 'proceedings',\n",
              " 'at',\n",
              " 'the',\n",
              " 'Maret',\n",
              " 'School,']"
            ]
          },
          "metadata": {},
          "execution_count": 11
        }
      ],
      "source": [
        "%%time\n",
        "#this is a magic function to determine how long a cell takes to run.\n",
        "#It MUST be the first thing in a cell\n",
        "\n",
        "#split the whole string on spaces. This returns a list\n",
        "whitespace_tokens = my_articles.split(' ')\n",
        "\n",
        "#check the list\n",
        "whitespace_tokens[:20]"
      ]
    },
    {
      "cell_type": "markdown",
      "id": "4bb27496",
      "metadata": {
        "id": "4bb27496"
      },
      "source": [
        "Note: \"µs\" is microseconds, or a millionth of a second 1/1,000,000"
      ]
    },
    {
      "cell_type": "markdown",
      "id": "5d4bf8ea",
      "metadata": {
        "id": "5d4bf8ea"
      },
      "source": [
        "# Morphological Tokenization\n",
        "\n",
        "Lemmatizing is the process of breaking down text into tokens by first breaking it up into \"words\" and then using syntactic knowledge of the language (in this case, English) to break up the words.\n",
        "\n",
        "Princeton maintains the [morphy project](https://wordnet.princeton.edu/documentation/morphy7wn#:~:text=Morphology%20in%20WordNet%20uses%20two,word%20that%20is%20in%20WordNet.), which powers `nltk`'s [WordNet Lemmatizer](https://www.nltk.org/api/nltk.stem.wordnet.html). You do NOT need to read this entire documentation, just acknowledge that it requires a significant amount of knowledge about English in order to make it work."
      ]
    },
    {
      "cell_type": "code",
      "execution_count": 14,
      "id": "108e29a8",
      "metadata": {
        "id": "108e29a8",
        "colab": {
          "base_uri": "https://localhost:8080/"
        },
        "outputId": "dea3bbeb-90b3-4a25-c038-91c5e174e3f0"
      },
      "outputs": [
        {
          "output_type": "stream",
          "name": "stderr",
          "text": [
            "[nltk_data] Downloading package wordnet to /root/nltk_data...\n"
          ]
        },
        {
          "output_type": "execute_result",
          "data": {
            "text/plain": [
              "True"
            ]
          },
          "metadata": {},
          "execution_count": 14
        }
      ],
      "source": [
        "#This lemmatizer is based on the Morphy project above\n",
        "from nltk.stem import WordNetLemmatizer\n",
        "\n",
        "#Uncomment these two lines - you may need to download these, maybe not.\n",
        "#nltk.download('wordnet')\n",
        "#nltk.download('omw-1.4')\n",
        "wn_lemmatizer = WordNetLemmatizer()\n",
        "import nltk\n",
        "nltk.download('wordnet')"
      ]
    },
    {
      "cell_type": "code",
      "execution_count": 15,
      "id": "16560507",
      "metadata": {
        "id": "16560507",
        "outputId": "aa205fb8-fc45-4609-cc92-ceabcdb7d39c",
        "colab": {
          "base_uri": "https://localhost:8080/"
        }
      },
      "outputs": [
        {
          "output_type": "stream",
          "name": "stdout",
          "text": [
            "CPU times: user 2.31 s, sys: 219 ms, total: 2.53 s\n",
            "Wall time: 2.6 s\n"
          ]
        },
        {
          "output_type": "execute_result",
          "data": {
            "text/plain": [
              "['Ground-breaking',\n",
              " 'ceremony',\n",
              " 'for',\n",
              " 'a',\n",
              " 'new',\n",
              " 'gymnaSium-science',\n",
              " 'building',\n",
              " 'were',\n",
              " 'held',\n",
              " 'yesterday',\n",
              " 'a',\n",
              " 'part',\n",
              " 'of',\n",
              " '50th',\n",
              " 'anniversary',\n",
              " 'proceeding',\n",
              " 'at',\n",
              " 'the',\n",
              " 'Maret',\n",
              " 'School,']"
            ]
          },
          "metadata": {},
          "execution_count": 15
        }
      ],
      "source": [
        "%%time\n",
        "\n",
        "#first we have to split the string on spaces to get \"words\"\n",
        "whitespace_tokens = my_articles.split(' ')\n",
        "\n",
        "my_lemmas = []\n",
        "for word in whitespace_tokens:\n",
        "    w = wn_lemmatizer.lemmatize(word)\n",
        "    my_lemmas.append(w)\n",
        "my_lemmas[:20]"
      ]
    },
    {
      "cell_type": "markdown",
      "id": "883aa4ba",
      "metadata": {
        "id": "883aa4ba"
      },
      "source": [
        "Notice how much time it takes to tokenize on whitespace versus using morphological rules. Also notice if it produced the output you expected. Sometimes it doesn't.\n",
        "\n",
        "ms is a millisecond, or one one thousandth of a second 1/1,000"
      ]
    },
    {
      "cell_type": "markdown",
      "id": "12d79061",
      "metadata": {
        "id": "12d79061"
      },
      "source": [
        "# Byte Pair Encoding"
      ]
    },
    {
      "cell_type": "markdown",
      "id": "962f282d",
      "metadata": {
        "id": "962f282d"
      },
      "source": [
        "There are two implementations of BPE here. The first [uses a package (bpe)](https://github.com/soaxelbrooke/python-bpe) that you will have to install using `pip` (see above).\n",
        "\n",
        "This will implement the algorithm we covered in class and that you can review at [Hugging Face](https://youtu.be/HEikzVL-lZU)."
      ]
    },
    {
      "cell_type": "code",
      "source": [
        "pip install bpe\n"
      ],
      "metadata": {
        "colab": {
          "base_uri": "https://localhost:8080/"
        },
        "id": "M951BSNFg17b",
        "outputId": "ec3ce4dd-a72a-4bf3-fcc7-199b6bb569bc"
      },
      "id": "M951BSNFg17b",
      "execution_count": 32,
      "outputs": [
        {
          "output_type": "stream",
          "name": "stdout",
          "text": [
            "Collecting bpe\n",
            "  Downloading bpe-1.0-py3-none-any.whl (6.8 kB)\n",
            "Requirement already satisfied: nltk in /usr/local/lib/python3.10/dist-packages (from bpe) (3.8.1)\n",
            "Requirement already satisfied: tqdm in /usr/local/lib/python3.10/dist-packages (from bpe) (4.66.1)\n",
            "Requirement already satisfied: pytest in /usr/local/lib/python3.10/dist-packages (from bpe) (7.4.1)\n",
            "Collecting hypothesis (from bpe)\n",
            "  Downloading hypothesis-6.86.1-py3-none-any.whl (421 kB)\n",
            "\u001b[2K     \u001b[90m━━━━━━━━━━━━━━━━━━━━━━━━━━━━━━━━━━━━━━━\u001b[0m \u001b[32m421.3/421.3 kB\u001b[0m \u001b[31m7.1 MB/s\u001b[0m eta \u001b[36m0:00:00\u001b[0m\n",
            "\u001b[?25hRequirement already satisfied: toolz in /usr/local/lib/python3.10/dist-packages (from bpe) (0.12.0)\n",
            "Collecting mypy (from bpe)\n",
            "  Downloading mypy-1.5.1-cp310-cp310-manylinux_2_17_x86_64.manylinux2014_x86_64.whl (12.1 MB)\n",
            "\u001b[2K     \u001b[90m━━━━━━━━━━━━━━━━━━━━━━━━━━━━━━━━━━━━━━━━\u001b[0m \u001b[32m12.1/12.1 MB\u001b[0m \u001b[31m49.9 MB/s\u001b[0m eta \u001b[36m0:00:00\u001b[0m\n",
            "\u001b[?25hRequirement already satisfied: attrs>=19.2.0 in /usr/local/lib/python3.10/dist-packages (from hypothesis->bpe) (23.1.0)\n",
            "Requirement already satisfied: sortedcontainers<3.0.0,>=2.1.0 in /usr/local/lib/python3.10/dist-packages (from hypothesis->bpe) (2.4.0)\n",
            "Requirement already satisfied: exceptiongroup>=1.0.0 in /usr/local/lib/python3.10/dist-packages (from hypothesis->bpe) (1.1.3)\n",
            "Requirement already satisfied: typing-extensions>=4.1.0 in /usr/local/lib/python3.10/dist-packages (from mypy->bpe) (4.5.0)\n",
            "Collecting mypy-extensions>=1.0.0 (from mypy->bpe)\n",
            "  Downloading mypy_extensions-1.0.0-py3-none-any.whl (4.7 kB)\n",
            "Requirement already satisfied: tomli>=1.1.0 in /usr/local/lib/python3.10/dist-packages (from mypy->bpe) (2.0.1)\n",
            "Requirement already satisfied: click in /usr/local/lib/python3.10/dist-packages (from nltk->bpe) (8.1.7)\n",
            "Requirement already satisfied: joblib in /usr/local/lib/python3.10/dist-packages (from nltk->bpe) (1.3.2)\n",
            "Requirement already satisfied: regex>=2021.8.3 in /usr/local/lib/python3.10/dist-packages (from nltk->bpe) (2023.6.3)\n",
            "Requirement already satisfied: iniconfig in /usr/local/lib/python3.10/dist-packages (from pytest->bpe) (2.0.0)\n",
            "Requirement already satisfied: packaging in /usr/local/lib/python3.10/dist-packages (from pytest->bpe) (23.1)\n",
            "Requirement already satisfied: pluggy<2.0,>=0.12 in /usr/local/lib/python3.10/dist-packages (from pytest->bpe) (1.3.0)\n",
            "Installing collected packages: mypy-extensions, hypothesis, mypy, bpe\n",
            "Successfully installed bpe-1.0 hypothesis-6.86.1 mypy-1.5.1 mypy-extensions-1.0.0\n"
          ]
        }
      ]
    },
    {
      "cell_type": "code",
      "execution_count": 33,
      "id": "3f1639f3",
      "metadata": {
        "id": "3f1639f3"
      },
      "outputs": [],
      "source": [
        "from bpe import Encoder"
      ]
    },
    {
      "cell_type": "code",
      "execution_count": 34,
      "id": "8857be2b",
      "metadata": {
        "id": "8857be2b",
        "outputId": "c666d5bf-ae35-4c35-f224-e3661c1bf583",
        "colab": {
          "base_uri": "https://localhost:8080/"
        }
      },
      "outputs": [
        {
          "output_type": "stream",
          "name": "stdout",
          "text": [
            "CPU times: user 8.11 ms, sys: 0 ns, total: 8.11 ms\n",
            "Wall time: 10.1 ms\n"
          ]
        }
      ],
      "source": [
        "%%time\n",
        "whitespace_tokens = my_articles.split(' ')\n",
        "\n",
        "# calling the Encoder algorithm\n",
        "# we've specified 100 token vocab and 95% to be tokenized\n",
        "# the other 5% is transformed into UNK\n",
        "encoder = Encoder(100, pct_bpe=0.95)\n",
        "encoder.fit(whitespace_tokens)"
      ]
    },
    {
      "cell_type": "code",
      "execution_count": 35,
      "id": "ae30d518",
      "metadata": {
        "id": "ae30d518",
        "outputId": "52e2acb2-afbe-434a-a020-e6b9851b58fe",
        "colab": {
          "base_uri": "https://localhost:8080/"
        }
      },
      "outputs": [
        {
          "output_type": "stream",
          "name": "stdout",
          "text": [
            "ground - breaking ceremonies for a new gymnasium - science building were held yesterday as part of __unk0th anniversary proceedings at the maret school , __unk000 cathedral avenue nv . the building is scheduled to have the gym and an audi torium on the first floor . with music and science facilities on the second floor . attending the ceremonies with the princi - pal , mrs . edward williams , were k . w . heberton , president of the parents club , mrs . __unkohn l . laskey , president of the board of trustees and mrs . arthur lowe , president of the alumni association . will steer down at is m . p . h . to a target - landing in front of the spectators . the per - formers are navy volunteers who ordinarily work at the parachute test facility at el centre , calf . other demonstrations and displays by other services will be included in the show . general public . free parking will be provided for __unk __unk , 000 cars at the air base , ii miles from washington out the suitland parkway . the gates open at __unk__unk__unk0 am , may is , and at noon , may ia . the parachute divers will drop from a blue and gold r__unkd__unk skytrain transport plane , trailing red , white and blue smoke while criss - crossing and passing batons in the air . dur ing their __unk0 - second plunge they will fall at a rate of two miles a minute . their silks will open to spell navy and then the starsstratford , conn . __unk ap __unk - three times in two days police were summoned to the bridge port municipal airport to cope with trouble near the runways . the trouble __unk neighborhood children playing too close to planes taking off and landing . four navy sky divers __unk __unk__unk making a spectacular , __unk - mile acrobatic free - fall , will be the feature event of the __unk__unk__unk__unk armed forces day program at an drews air force base on sat - urday and sunday , may __unk__unk and ia . the navy __unk s parachute e__unkhi - bition team , __unk chuting stars , e __unk will appear both days at the free show which is open to the\n"
          ]
        }
      ],
      "source": [
        "#print(encoder.tokenize(my_articles))\n",
        "\n",
        "print(next(encoder.inverse_transform(encoder.transform([my_articles]))))"
      ]
    }
  ],
  "metadata": {
    "kernelspec": {
      "display_name": "Python 3 (ipykernel)",
      "language": "python",
      "name": "python3"
    },
    "language_info": {
      "codemirror_mode": {
        "name": "ipython",
        "version": 3
      },
      "file_extension": ".py",
      "mimetype": "text/x-python",
      "name": "python",
      "nbconvert_exporter": "python",
      "pygments_lexer": "ipython3",
      "version": "3.11.3"
    },
    "colab": {
      "provenance": [],
      "include_colab_link": true
    },
    "widgets": {
      "application/vnd.jupyter.widget-state+json": {
        "913f4623f377480b99cbf422d1bcb628": {
          "model_module": "@jupyter-widgets/controls",
          "model_name": "HBoxModel",
          "model_module_version": "1.5.0",
          "state": {
            "_dom_classes": [],
            "_model_module": "@jupyter-widgets/controls",
            "_model_module_version": "1.5.0",
            "_model_name": "HBoxModel",
            "_view_count": null,
            "_view_module": "@jupyter-widgets/controls",
            "_view_module_version": "1.5.0",
            "_view_name": "HBoxView",
            "box_style": "",
            "children": [
              "IPY_MODEL_242bde392ea0496b81c2a42de609bb4a",
              "IPY_MODEL_8c2e938f8ff14f828986456b57454ad4",
              "IPY_MODEL_70f846d322f04c29865361c47081f5cc"
            ],
            "layout": "IPY_MODEL_da300b879e27401a8e8fad6e2bf60bee"
          }
        },
        "242bde392ea0496b81c2a42de609bb4a": {
          "model_module": "@jupyter-widgets/controls",
          "model_name": "HTMLModel",
          "model_module_version": "1.5.0",
          "state": {
            "_dom_classes": [],
            "_model_module": "@jupyter-widgets/controls",
            "_model_module_version": "1.5.0",
            "_model_name": "HTMLModel",
            "_view_count": null,
            "_view_module": "@jupyter-widgets/controls",
            "_view_module_version": "1.5.0",
            "_view_name": "HTMLView",
            "description": "",
            "description_tooltip": null,
            "layout": "IPY_MODEL_9ebf2e82b465497faca20399cc2d48b7",
            "placeholder": "​",
            "style": "IPY_MODEL_6b8c3e1b8f5547c4930d34471d204298",
            "value": "Downloading data files: 100%"
          }
        },
        "8c2e938f8ff14f828986456b57454ad4": {
          "model_module": "@jupyter-widgets/controls",
          "model_name": "FloatProgressModel",
          "model_module_version": "1.5.0",
          "state": {
            "_dom_classes": [],
            "_model_module": "@jupyter-widgets/controls",
            "_model_module_version": "1.5.0",
            "_model_name": "FloatProgressModel",
            "_view_count": null,
            "_view_module": "@jupyter-widgets/controls",
            "_view_module_version": "1.5.0",
            "_view_name": "ProgressView",
            "bar_style": "success",
            "description": "",
            "description_tooltip": null,
            "layout": "IPY_MODEL_7173f19c6a0240bb98c40a1396e776ec",
            "max": 1,
            "min": 0,
            "orientation": "horizontal",
            "style": "IPY_MODEL_93bc4963ebbd44e892fb52f619653da3",
            "value": 1
          }
        },
        "70f846d322f04c29865361c47081f5cc": {
          "model_module": "@jupyter-widgets/controls",
          "model_name": "HTMLModel",
          "model_module_version": "1.5.0",
          "state": {
            "_dom_classes": [],
            "_model_module": "@jupyter-widgets/controls",
            "_model_module_version": "1.5.0",
            "_model_name": "HTMLModel",
            "_view_count": null,
            "_view_module": "@jupyter-widgets/controls",
            "_view_module_version": "1.5.0",
            "_view_name": "HTMLView",
            "description": "",
            "description_tooltip": null,
            "layout": "IPY_MODEL_86dbd58c2d574ea2bae1e96de0323e3b",
            "placeholder": "​",
            "style": "IPY_MODEL_b49d33685a31418eb89a1fc8ad69209a",
            "value": " 1/1 [00:05&lt;00:00,  5.38s/it]"
          }
        },
        "da300b879e27401a8e8fad6e2bf60bee": {
          "model_module": "@jupyter-widgets/base",
          "model_name": "LayoutModel",
          "model_module_version": "1.2.0",
          "state": {
            "_model_module": "@jupyter-widgets/base",
            "_model_module_version": "1.2.0",
            "_model_name": "LayoutModel",
            "_view_count": null,
            "_view_module": "@jupyter-widgets/base",
            "_view_module_version": "1.2.0",
            "_view_name": "LayoutView",
            "align_content": null,
            "align_items": null,
            "align_self": null,
            "border": null,
            "bottom": null,
            "display": null,
            "flex": null,
            "flex_flow": null,
            "grid_area": null,
            "grid_auto_columns": null,
            "grid_auto_flow": null,
            "grid_auto_rows": null,
            "grid_column": null,
            "grid_gap": null,
            "grid_row": null,
            "grid_template_areas": null,
            "grid_template_columns": null,
            "grid_template_rows": null,
            "height": null,
            "justify_content": null,
            "justify_items": null,
            "left": null,
            "margin": null,
            "max_height": null,
            "max_width": null,
            "min_height": null,
            "min_width": null,
            "object_fit": null,
            "object_position": null,
            "order": null,
            "overflow": null,
            "overflow_x": null,
            "overflow_y": null,
            "padding": null,
            "right": null,
            "top": null,
            "visibility": null,
            "width": null
          }
        },
        "9ebf2e82b465497faca20399cc2d48b7": {
          "model_module": "@jupyter-widgets/base",
          "model_name": "LayoutModel",
          "model_module_version": "1.2.0",
          "state": {
            "_model_module": "@jupyter-widgets/base",
            "_model_module_version": "1.2.0",
            "_model_name": "LayoutModel",
            "_view_count": null,
            "_view_module": "@jupyter-widgets/base",
            "_view_module_version": "1.2.0",
            "_view_name": "LayoutView",
            "align_content": null,
            "align_items": null,
            "align_self": null,
            "border": null,
            "bottom": null,
            "display": null,
            "flex": null,
            "flex_flow": null,
            "grid_area": null,
            "grid_auto_columns": null,
            "grid_auto_flow": null,
            "grid_auto_rows": null,
            "grid_column": null,
            "grid_gap": null,
            "grid_row": null,
            "grid_template_areas": null,
            "grid_template_columns": null,
            "grid_template_rows": null,
            "height": null,
            "justify_content": null,
            "justify_items": null,
            "left": null,
            "margin": null,
            "max_height": null,
            "max_width": null,
            "min_height": null,
            "min_width": null,
            "object_fit": null,
            "object_position": null,
            "order": null,
            "overflow": null,
            "overflow_x": null,
            "overflow_y": null,
            "padding": null,
            "right": null,
            "top": null,
            "visibility": null,
            "width": null
          }
        },
        "6b8c3e1b8f5547c4930d34471d204298": {
          "model_module": "@jupyter-widgets/controls",
          "model_name": "DescriptionStyleModel",
          "model_module_version": "1.5.0",
          "state": {
            "_model_module": "@jupyter-widgets/controls",
            "_model_module_version": "1.5.0",
            "_model_name": "DescriptionStyleModel",
            "_view_count": null,
            "_view_module": "@jupyter-widgets/base",
            "_view_module_version": "1.2.0",
            "_view_name": "StyleView",
            "description_width": ""
          }
        },
        "7173f19c6a0240bb98c40a1396e776ec": {
          "model_module": "@jupyter-widgets/base",
          "model_name": "LayoutModel",
          "model_module_version": "1.2.0",
          "state": {
            "_model_module": "@jupyter-widgets/base",
            "_model_module_version": "1.2.0",
            "_model_name": "LayoutModel",
            "_view_count": null,
            "_view_module": "@jupyter-widgets/base",
            "_view_module_version": "1.2.0",
            "_view_name": "LayoutView",
            "align_content": null,
            "align_items": null,
            "align_self": null,
            "border": null,
            "bottom": null,
            "display": null,
            "flex": null,
            "flex_flow": null,
            "grid_area": null,
            "grid_auto_columns": null,
            "grid_auto_flow": null,
            "grid_auto_rows": null,
            "grid_column": null,
            "grid_gap": null,
            "grid_row": null,
            "grid_template_areas": null,
            "grid_template_columns": null,
            "grid_template_rows": null,
            "height": null,
            "justify_content": null,
            "justify_items": null,
            "left": null,
            "margin": null,
            "max_height": null,
            "max_width": null,
            "min_height": null,
            "min_width": null,
            "object_fit": null,
            "object_position": null,
            "order": null,
            "overflow": null,
            "overflow_x": null,
            "overflow_y": null,
            "padding": null,
            "right": null,
            "top": null,
            "visibility": null,
            "width": null
          }
        },
        "93bc4963ebbd44e892fb52f619653da3": {
          "model_module": "@jupyter-widgets/controls",
          "model_name": "ProgressStyleModel",
          "model_module_version": "1.5.0",
          "state": {
            "_model_module": "@jupyter-widgets/controls",
            "_model_module_version": "1.5.0",
            "_model_name": "ProgressStyleModel",
            "_view_count": null,
            "_view_module": "@jupyter-widgets/base",
            "_view_module_version": "1.2.0",
            "_view_name": "StyleView",
            "bar_color": null,
            "description_width": ""
          }
        },
        "86dbd58c2d574ea2bae1e96de0323e3b": {
          "model_module": "@jupyter-widgets/base",
          "model_name": "LayoutModel",
          "model_module_version": "1.2.0",
          "state": {
            "_model_module": "@jupyter-widgets/base",
            "_model_module_version": "1.2.0",
            "_model_name": "LayoutModel",
            "_view_count": null,
            "_view_module": "@jupyter-widgets/base",
            "_view_module_version": "1.2.0",
            "_view_name": "LayoutView",
            "align_content": null,
            "align_items": null,
            "align_self": null,
            "border": null,
            "bottom": null,
            "display": null,
            "flex": null,
            "flex_flow": null,
            "grid_area": null,
            "grid_auto_columns": null,
            "grid_auto_flow": null,
            "grid_auto_rows": null,
            "grid_column": null,
            "grid_gap": null,
            "grid_row": null,
            "grid_template_areas": null,
            "grid_template_columns": null,
            "grid_template_rows": null,
            "height": null,
            "justify_content": null,
            "justify_items": null,
            "left": null,
            "margin": null,
            "max_height": null,
            "max_width": null,
            "min_height": null,
            "min_width": null,
            "object_fit": null,
            "object_position": null,
            "order": null,
            "overflow": null,
            "overflow_x": null,
            "overflow_y": null,
            "padding": null,
            "right": null,
            "top": null,
            "visibility": null,
            "width": null
          }
        },
        "b49d33685a31418eb89a1fc8ad69209a": {
          "model_module": "@jupyter-widgets/controls",
          "model_name": "DescriptionStyleModel",
          "model_module_version": "1.5.0",
          "state": {
            "_model_module": "@jupyter-widgets/controls",
            "_model_module_version": "1.5.0",
            "_model_name": "DescriptionStyleModel",
            "_view_count": null,
            "_view_module": "@jupyter-widgets/base",
            "_view_module_version": "1.2.0",
            "_view_name": "StyleView",
            "description_width": ""
          }
        },
        "fc9abb42fc184d9785a301f1e319c0ea": {
          "model_module": "@jupyter-widgets/controls",
          "model_name": "HBoxModel",
          "model_module_version": "1.5.0",
          "state": {
            "_dom_classes": [],
            "_model_module": "@jupyter-widgets/controls",
            "_model_module_version": "1.5.0",
            "_model_name": "HBoxModel",
            "_view_count": null,
            "_view_module": "@jupyter-widgets/controls",
            "_view_module_version": "1.5.0",
            "_view_name": "HBoxView",
            "box_style": "",
            "children": [
              "IPY_MODEL_d3b507672d594991954f1d7fb63f15fa",
              "IPY_MODEL_603059610cdd45d0a7943d26550888c4",
              "IPY_MODEL_6db211bfa5324141a384fd0ce109389b"
            ],
            "layout": "IPY_MODEL_2377dbb6aef340628f77aec71e77b1f4"
          }
        },
        "d3b507672d594991954f1d7fb63f15fa": {
          "model_module": "@jupyter-widgets/controls",
          "model_name": "HTMLModel",
          "model_module_version": "1.5.0",
          "state": {
            "_dom_classes": [],
            "_model_module": "@jupyter-widgets/controls",
            "_model_module_version": "1.5.0",
            "_model_name": "HTMLModel",
            "_view_count": null,
            "_view_module": "@jupyter-widgets/controls",
            "_view_module_version": "1.5.0",
            "_view_name": "HTMLView",
            "description": "",
            "description_tooltip": null,
            "layout": "IPY_MODEL_1d49f505d5bb4dfaa149c76802ebfb2f",
            "placeholder": "​",
            "style": "IPY_MODEL_cb69461549f0495c8cd09825e9002af9",
            "value": "Downloading data: 100%"
          }
        },
        "603059610cdd45d0a7943d26550888c4": {
          "model_module": "@jupyter-widgets/controls",
          "model_name": "FloatProgressModel",
          "model_module_version": "1.5.0",
          "state": {
            "_dom_classes": [],
            "_model_module": "@jupyter-widgets/controls",
            "_model_module_version": "1.5.0",
            "_model_name": "FloatProgressModel",
            "_view_count": null,
            "_view_module": "@jupyter-widgets/controls",
            "_view_module_version": "1.5.0",
            "_view_name": "ProgressView",
            "bar_style": "success",
            "description": "",
            "description_tooltip": null,
            "layout": "IPY_MODEL_fcb6d4d479f54867a3cc2e5a875c3015",
            "max": 252139184,
            "min": 0,
            "orientation": "horizontal",
            "style": "IPY_MODEL_e60badeeaef24498a8374c9dcdb59d0c",
            "value": 252139184
          }
        },
        "6db211bfa5324141a384fd0ce109389b": {
          "model_module": "@jupyter-widgets/controls",
          "model_name": "HTMLModel",
          "model_module_version": "1.5.0",
          "state": {
            "_dom_classes": [],
            "_model_module": "@jupyter-widgets/controls",
            "_model_module_version": "1.5.0",
            "_model_name": "HTMLModel",
            "_view_count": null,
            "_view_module": "@jupyter-widgets/controls",
            "_view_module_version": "1.5.0",
            "_view_name": "HTMLView",
            "description": "",
            "description_tooltip": null,
            "layout": "IPY_MODEL_c0764ced98f24c12acf2c2b36c15eba3",
            "placeholder": "​",
            "style": "IPY_MODEL_631c107486f849b3829b17eb378a8822",
            "value": " 252M/252M [00:04&lt;00:00, 55.1MB/s]"
          }
        },
        "2377dbb6aef340628f77aec71e77b1f4": {
          "model_module": "@jupyter-widgets/base",
          "model_name": "LayoutModel",
          "model_module_version": "1.2.0",
          "state": {
            "_model_module": "@jupyter-widgets/base",
            "_model_module_version": "1.2.0",
            "_model_name": "LayoutModel",
            "_view_count": null,
            "_view_module": "@jupyter-widgets/base",
            "_view_module_version": "1.2.0",
            "_view_name": "LayoutView",
            "align_content": null,
            "align_items": null,
            "align_self": null,
            "border": null,
            "bottom": null,
            "display": null,
            "flex": null,
            "flex_flow": null,
            "grid_area": null,
            "grid_auto_columns": null,
            "grid_auto_flow": null,
            "grid_auto_rows": null,
            "grid_column": null,
            "grid_gap": null,
            "grid_row": null,
            "grid_template_areas": null,
            "grid_template_columns": null,
            "grid_template_rows": null,
            "height": null,
            "justify_content": null,
            "justify_items": null,
            "left": null,
            "margin": null,
            "max_height": null,
            "max_width": null,
            "min_height": null,
            "min_width": null,
            "object_fit": null,
            "object_position": null,
            "order": null,
            "overflow": null,
            "overflow_x": null,
            "overflow_y": null,
            "padding": null,
            "right": null,
            "top": null,
            "visibility": null,
            "width": null
          }
        },
        "1d49f505d5bb4dfaa149c76802ebfb2f": {
          "model_module": "@jupyter-widgets/base",
          "model_name": "LayoutModel",
          "model_module_version": "1.2.0",
          "state": {
            "_model_module": "@jupyter-widgets/base",
            "_model_module_version": "1.2.0",
            "_model_name": "LayoutModel",
            "_view_count": null,
            "_view_module": "@jupyter-widgets/base",
            "_view_module_version": "1.2.0",
            "_view_name": "LayoutView",
            "align_content": null,
            "align_items": null,
            "align_self": null,
            "border": null,
            "bottom": null,
            "display": null,
            "flex": null,
            "flex_flow": null,
            "grid_area": null,
            "grid_auto_columns": null,
            "grid_auto_flow": null,
            "grid_auto_rows": null,
            "grid_column": null,
            "grid_gap": null,
            "grid_row": null,
            "grid_template_areas": null,
            "grid_template_columns": null,
            "grid_template_rows": null,
            "height": null,
            "justify_content": null,
            "justify_items": null,
            "left": null,
            "margin": null,
            "max_height": null,
            "max_width": null,
            "min_height": null,
            "min_width": null,
            "object_fit": null,
            "object_position": null,
            "order": null,
            "overflow": null,
            "overflow_x": null,
            "overflow_y": null,
            "padding": null,
            "right": null,
            "top": null,
            "visibility": null,
            "width": null
          }
        },
        "cb69461549f0495c8cd09825e9002af9": {
          "model_module": "@jupyter-widgets/controls",
          "model_name": "DescriptionStyleModel",
          "model_module_version": "1.5.0",
          "state": {
            "_model_module": "@jupyter-widgets/controls",
            "_model_module_version": "1.5.0",
            "_model_name": "DescriptionStyleModel",
            "_view_count": null,
            "_view_module": "@jupyter-widgets/base",
            "_view_module_version": "1.2.0",
            "_view_name": "StyleView",
            "description_width": ""
          }
        },
        "fcb6d4d479f54867a3cc2e5a875c3015": {
          "model_module": "@jupyter-widgets/base",
          "model_name": "LayoutModel",
          "model_module_version": "1.2.0",
          "state": {
            "_model_module": "@jupyter-widgets/base",
            "_model_module_version": "1.2.0",
            "_model_name": "LayoutModel",
            "_view_count": null,
            "_view_module": "@jupyter-widgets/base",
            "_view_module_version": "1.2.0",
            "_view_name": "LayoutView",
            "align_content": null,
            "align_items": null,
            "align_self": null,
            "border": null,
            "bottom": null,
            "display": null,
            "flex": null,
            "flex_flow": null,
            "grid_area": null,
            "grid_auto_columns": null,
            "grid_auto_flow": null,
            "grid_auto_rows": null,
            "grid_column": null,
            "grid_gap": null,
            "grid_row": null,
            "grid_template_areas": null,
            "grid_template_columns": null,
            "grid_template_rows": null,
            "height": null,
            "justify_content": null,
            "justify_items": null,
            "left": null,
            "margin": null,
            "max_height": null,
            "max_width": null,
            "min_height": null,
            "min_width": null,
            "object_fit": null,
            "object_position": null,
            "order": null,
            "overflow": null,
            "overflow_x": null,
            "overflow_y": null,
            "padding": null,
            "right": null,
            "top": null,
            "visibility": null,
            "width": null
          }
        },
        "e60badeeaef24498a8374c9dcdb59d0c": {
          "model_module": "@jupyter-widgets/controls",
          "model_name": "ProgressStyleModel",
          "model_module_version": "1.5.0",
          "state": {
            "_model_module": "@jupyter-widgets/controls",
            "_model_module_version": "1.5.0",
            "_model_name": "ProgressStyleModel",
            "_view_count": null,
            "_view_module": "@jupyter-widgets/base",
            "_view_module_version": "1.2.0",
            "_view_name": "StyleView",
            "bar_color": null,
            "description_width": ""
          }
        },
        "c0764ced98f24c12acf2c2b36c15eba3": {
          "model_module": "@jupyter-widgets/base",
          "model_name": "LayoutModel",
          "model_module_version": "1.2.0",
          "state": {
            "_model_module": "@jupyter-widgets/base",
            "_model_module_version": "1.2.0",
            "_model_name": "LayoutModel",
            "_view_count": null,
            "_view_module": "@jupyter-widgets/base",
            "_view_module_version": "1.2.0",
            "_view_name": "LayoutView",
            "align_content": null,
            "align_items": null,
            "align_self": null,
            "border": null,
            "bottom": null,
            "display": null,
            "flex": null,
            "flex_flow": null,
            "grid_area": null,
            "grid_auto_columns": null,
            "grid_auto_flow": null,
            "grid_auto_rows": null,
            "grid_column": null,
            "grid_gap": null,
            "grid_row": null,
            "grid_template_areas": null,
            "grid_template_columns": null,
            "grid_template_rows": null,
            "height": null,
            "justify_content": null,
            "justify_items": null,
            "left": null,
            "margin": null,
            "max_height": null,
            "max_width": null,
            "min_height": null,
            "min_width": null,
            "object_fit": null,
            "object_position": null,
            "order": null,
            "overflow": null,
            "overflow_x": null,
            "overflow_y": null,
            "padding": null,
            "right": null,
            "top": null,
            "visibility": null,
            "width": null
          }
        },
        "631c107486f849b3829b17eb378a8822": {
          "model_module": "@jupyter-widgets/controls",
          "model_name": "DescriptionStyleModel",
          "model_module_version": "1.5.0",
          "state": {
            "_model_module": "@jupyter-widgets/controls",
            "_model_module_version": "1.5.0",
            "_model_name": "DescriptionStyleModel",
            "_view_count": null,
            "_view_module": "@jupyter-widgets/base",
            "_view_module_version": "1.2.0",
            "_view_name": "StyleView",
            "description_width": ""
          }
        },
        "2224c7720e3e407f88299b2310fe8e4c": {
          "model_module": "@jupyter-widgets/controls",
          "model_name": "HBoxModel",
          "model_module_version": "1.5.0",
          "state": {
            "_dom_classes": [],
            "_model_module": "@jupyter-widgets/controls",
            "_model_module_version": "1.5.0",
            "_model_name": "HBoxModel",
            "_view_count": null,
            "_view_module": "@jupyter-widgets/controls",
            "_view_module_version": "1.5.0",
            "_view_name": "HBoxView",
            "box_style": "",
            "children": [
              "IPY_MODEL_16f2661e43404cb3893214592fb7fcee",
              "IPY_MODEL_2d7b2507609f4238b49efad8a59c90d6",
              "IPY_MODEL_03a88037e20a4475a9f3df9884d68404"
            ],
            "layout": "IPY_MODEL_15bc1cefde6f4db6b7b25a76c92e674c"
          }
        },
        "16f2661e43404cb3893214592fb7fcee": {
          "model_module": "@jupyter-widgets/controls",
          "model_name": "HTMLModel",
          "model_module_version": "1.5.0",
          "state": {
            "_dom_classes": [],
            "_model_module": "@jupyter-widgets/controls",
            "_model_module_version": "1.5.0",
            "_model_name": "HTMLModel",
            "_view_count": null,
            "_view_module": "@jupyter-widgets/controls",
            "_view_module_version": "1.5.0",
            "_view_name": "HTMLView",
            "description": "",
            "description_tooltip": null,
            "layout": "IPY_MODEL_55e20bc4442044548a67e5478f3ed7f8",
            "placeholder": "​",
            "style": "IPY_MODEL_12f7dcc29fd14342a2c3b6b31c3c17b3",
            "value": "Generating 1961 split: "
          }
        },
        "2d7b2507609f4238b49efad8a59c90d6": {
          "model_module": "@jupyter-widgets/controls",
          "model_name": "FloatProgressModel",
          "model_module_version": "1.5.0",
          "state": {
            "_dom_classes": [],
            "_model_module": "@jupyter-widgets/controls",
            "_model_module_version": "1.5.0",
            "_model_name": "FloatProgressModel",
            "_view_count": null,
            "_view_module": "@jupyter-widgets/controls",
            "_view_module_version": "1.5.0",
            "_view_name": "ProgressView",
            "bar_style": "success",
            "description": "",
            "description_tooltip": null,
            "layout": "IPY_MODEL_b5255741c73041dc839ba001c34ab8fd",
            "max": 1,
            "min": 0,
            "orientation": "horizontal",
            "style": "IPY_MODEL_e2846203ff664ac1870cb224f4eb6f59",
            "value": 1
          }
        },
        "03a88037e20a4475a9f3df9884d68404": {
          "model_module": "@jupyter-widgets/controls",
          "model_name": "HTMLModel",
          "model_module_version": "1.5.0",
          "state": {
            "_dom_classes": [],
            "_model_module": "@jupyter-widgets/controls",
            "_model_module_version": "1.5.0",
            "_model_name": "HTMLModel",
            "_view_count": null,
            "_view_module": "@jupyter-widgets/controls",
            "_view_module_version": "1.5.0",
            "_view_name": "HTMLView",
            "description": "",
            "description_tooltip": null,
            "layout": "IPY_MODEL_850dacf4327c4ad693b19faa080b7a8c",
            "placeholder": "​",
            "style": "IPY_MODEL_7db8326c3ee94cfa83b51937ebc80481",
            "value": " 339076/0 [00:57&lt;00:00, 4111.50 examples/s]"
          }
        },
        "15bc1cefde6f4db6b7b25a76c92e674c": {
          "model_module": "@jupyter-widgets/base",
          "model_name": "LayoutModel",
          "model_module_version": "1.2.0",
          "state": {
            "_model_module": "@jupyter-widgets/base",
            "_model_module_version": "1.2.0",
            "_model_name": "LayoutModel",
            "_view_count": null,
            "_view_module": "@jupyter-widgets/base",
            "_view_module_version": "1.2.0",
            "_view_name": "LayoutView",
            "align_content": null,
            "align_items": null,
            "align_self": null,
            "border": null,
            "bottom": null,
            "display": null,
            "flex": null,
            "flex_flow": null,
            "grid_area": null,
            "grid_auto_columns": null,
            "grid_auto_flow": null,
            "grid_auto_rows": null,
            "grid_column": null,
            "grid_gap": null,
            "grid_row": null,
            "grid_template_areas": null,
            "grid_template_columns": null,
            "grid_template_rows": null,
            "height": null,
            "justify_content": null,
            "justify_items": null,
            "left": null,
            "margin": null,
            "max_height": null,
            "max_width": null,
            "min_height": null,
            "min_width": null,
            "object_fit": null,
            "object_position": null,
            "order": null,
            "overflow": null,
            "overflow_x": null,
            "overflow_y": null,
            "padding": null,
            "right": null,
            "top": null,
            "visibility": null,
            "width": null
          }
        },
        "55e20bc4442044548a67e5478f3ed7f8": {
          "model_module": "@jupyter-widgets/base",
          "model_name": "LayoutModel",
          "model_module_version": "1.2.0",
          "state": {
            "_model_module": "@jupyter-widgets/base",
            "_model_module_version": "1.2.0",
            "_model_name": "LayoutModel",
            "_view_count": null,
            "_view_module": "@jupyter-widgets/base",
            "_view_module_version": "1.2.0",
            "_view_name": "LayoutView",
            "align_content": null,
            "align_items": null,
            "align_self": null,
            "border": null,
            "bottom": null,
            "display": null,
            "flex": null,
            "flex_flow": null,
            "grid_area": null,
            "grid_auto_columns": null,
            "grid_auto_flow": null,
            "grid_auto_rows": null,
            "grid_column": null,
            "grid_gap": null,
            "grid_row": null,
            "grid_template_areas": null,
            "grid_template_columns": null,
            "grid_template_rows": null,
            "height": null,
            "justify_content": null,
            "justify_items": null,
            "left": null,
            "margin": null,
            "max_height": null,
            "max_width": null,
            "min_height": null,
            "min_width": null,
            "object_fit": null,
            "object_position": null,
            "order": null,
            "overflow": null,
            "overflow_x": null,
            "overflow_y": null,
            "padding": null,
            "right": null,
            "top": null,
            "visibility": null,
            "width": null
          }
        },
        "12f7dcc29fd14342a2c3b6b31c3c17b3": {
          "model_module": "@jupyter-widgets/controls",
          "model_name": "DescriptionStyleModel",
          "model_module_version": "1.5.0",
          "state": {
            "_model_module": "@jupyter-widgets/controls",
            "_model_module_version": "1.5.0",
            "_model_name": "DescriptionStyleModel",
            "_view_count": null,
            "_view_module": "@jupyter-widgets/base",
            "_view_module_version": "1.2.0",
            "_view_name": "StyleView",
            "description_width": ""
          }
        },
        "b5255741c73041dc839ba001c34ab8fd": {
          "model_module": "@jupyter-widgets/base",
          "model_name": "LayoutModel",
          "model_module_version": "1.2.0",
          "state": {
            "_model_module": "@jupyter-widgets/base",
            "_model_module_version": "1.2.0",
            "_model_name": "LayoutModel",
            "_view_count": null,
            "_view_module": "@jupyter-widgets/base",
            "_view_module_version": "1.2.0",
            "_view_name": "LayoutView",
            "align_content": null,
            "align_items": null,
            "align_self": null,
            "border": null,
            "bottom": null,
            "display": null,
            "flex": null,
            "flex_flow": null,
            "grid_area": null,
            "grid_auto_columns": null,
            "grid_auto_flow": null,
            "grid_auto_rows": null,
            "grid_column": null,
            "grid_gap": null,
            "grid_row": null,
            "grid_template_areas": null,
            "grid_template_columns": null,
            "grid_template_rows": null,
            "height": null,
            "justify_content": null,
            "justify_items": null,
            "left": null,
            "margin": null,
            "max_height": null,
            "max_width": null,
            "min_height": null,
            "min_width": null,
            "object_fit": null,
            "object_position": null,
            "order": null,
            "overflow": null,
            "overflow_x": null,
            "overflow_y": null,
            "padding": null,
            "right": null,
            "top": null,
            "visibility": null,
            "width": "20px"
          }
        },
        "e2846203ff664ac1870cb224f4eb6f59": {
          "model_module": "@jupyter-widgets/controls",
          "model_name": "ProgressStyleModel",
          "model_module_version": "1.5.0",
          "state": {
            "_model_module": "@jupyter-widgets/controls",
            "_model_module_version": "1.5.0",
            "_model_name": "ProgressStyleModel",
            "_view_count": null,
            "_view_module": "@jupyter-widgets/base",
            "_view_module_version": "1.2.0",
            "_view_name": "StyleView",
            "bar_color": null,
            "description_width": ""
          }
        },
        "850dacf4327c4ad693b19faa080b7a8c": {
          "model_module": "@jupyter-widgets/base",
          "model_name": "LayoutModel",
          "model_module_version": "1.2.0",
          "state": {
            "_model_module": "@jupyter-widgets/base",
            "_model_module_version": "1.2.0",
            "_model_name": "LayoutModel",
            "_view_count": null,
            "_view_module": "@jupyter-widgets/base",
            "_view_module_version": "1.2.0",
            "_view_name": "LayoutView",
            "align_content": null,
            "align_items": null,
            "align_self": null,
            "border": null,
            "bottom": null,
            "display": null,
            "flex": null,
            "flex_flow": null,
            "grid_area": null,
            "grid_auto_columns": null,
            "grid_auto_flow": null,
            "grid_auto_rows": null,
            "grid_column": null,
            "grid_gap": null,
            "grid_row": null,
            "grid_template_areas": null,
            "grid_template_columns": null,
            "grid_template_rows": null,
            "height": null,
            "justify_content": null,
            "justify_items": null,
            "left": null,
            "margin": null,
            "max_height": null,
            "max_width": null,
            "min_height": null,
            "min_width": null,
            "object_fit": null,
            "object_position": null,
            "order": null,
            "overflow": null,
            "overflow_x": null,
            "overflow_y": null,
            "padding": null,
            "right": null,
            "top": null,
            "visibility": null,
            "width": null
          }
        },
        "7db8326c3ee94cfa83b51937ebc80481": {
          "model_module": "@jupyter-widgets/controls",
          "model_name": "DescriptionStyleModel",
          "model_module_version": "1.5.0",
          "state": {
            "_model_module": "@jupyter-widgets/controls",
            "_model_module_version": "1.5.0",
            "_model_name": "DescriptionStyleModel",
            "_view_count": null,
            "_view_module": "@jupyter-widgets/base",
            "_view_module_version": "1.2.0",
            "_view_name": "StyleView",
            "description_width": ""
          }
        }
      }
    }
  },
  "nbformat": 4,
  "nbformat_minor": 5
}