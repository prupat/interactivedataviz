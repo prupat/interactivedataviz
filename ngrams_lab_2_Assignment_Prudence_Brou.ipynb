{
  "cells": [
    {
      "cell_type": "markdown",
      "metadata": {
        "id": "view-in-github",
        "colab_type": "text"
      },
      "source": [
        "<a href=\"https://colab.research.google.com/github/prupat/interactivedataviz/blob/main/ngrams_lab_2_Assignment_Prudence_Brou.ipynb\" target=\"_parent\"><img src=\"https://colab.research.google.com/assets/colab-badge.svg\" alt=\"Open In Colab\"/></a>"
      ]
    },
    {
      "cell_type": "code",
      "execution_count": 10,
      "id": "ef35858b",
      "metadata": {
        "id": "ef35858b",
        "colab": {
          "base_uri": "https://localhost:8080/"
        },
        "outputId": "8b525361-6b38-45ec-e3db-e83e5b243736"
      },
      "outputs": [
        {
          "output_type": "stream",
          "name": "stderr",
          "text": [
            "[nltk_data] Downloading package punkt to /root/nltk_data...\n",
            "[nltk_data]   Unzipping tokenizers/punkt.zip.\n"
          ]
        }
      ],
      "source": [
        "import numpy as np\n",
        "import re\n",
        "\n",
        "import nltk\n",
        "# if you haven't downloaded punkt before, you only need to run the line below once\n",
        "#nltk.download('punkt')\n",
        "from nltk import word_tokenize\n",
        "from nltk import sent_tokenize\n",
        "nltk.download('punkt')\n",
        "\n",
        "from nltk.util import bigrams\n",
        "from nltk.lm.preprocessing import padded_everygram_pipeline\n",
        "\n",
        "import requests"
      ]
    },
    {
      "cell_type": "markdown",
      "source": [],
      "metadata": {
        "id": "_VjCiUHs8V5r"
      },
      "id": "_VjCiUHs8V5r"
    },
    {
      "cell_type": "markdown",
      "id": "e7017636",
      "metadata": {
        "id": "e7017636"
      },
      "source": [
        "# Part 1\n",
        "An example of how ngrams are generated"
      ]
    },
    {
      "cell_type": "code",
      "execution_count": 11,
      "id": "de8054bf",
      "metadata": {
        "colab": {
          "base_uri": "https://localhost:8080/"
        },
        "id": "de8054bf",
        "outputId": "1103aff7-704d-48ca-cde8-2a15ce7da1cf"
      },
      "outputs": [
        {
          "output_type": "stream",
          "name": "stdout",
          "text": [
            "ï»¿The Project Gutenberg EBook of Father Goriot, by Honore de Balzac    This eBook is for the use of\n"
          ]
        }
      ],
      "source": [
        "# you will need to leverage the requests package\n",
        "r = requests.get(r'https://www.gutenberg.org/files/1237/1237-0.txt')\n",
        "father_goriot = r.text\n",
        "\n",
        "# first, remove unwanted new line and tab characters from the text\n",
        "for char in [\"\\n\", \"\\r\", \"\\d\", \"\\t\"]:\n",
        "    father_goriot = father_goriot.replace(char, \" \")\n",
        "\n",
        "# check\n",
        "print(father_goriot[:100])\n"
      ]
    },
    {
      "cell_type": "code",
      "execution_count": 12,
      "id": "886ac257",
      "metadata": {
        "id": "886ac257"
      },
      "outputs": [],
      "source": [
        "# remove the metadata at the beginning - this is slightly different for each book\n",
        "father_goriot = father_goriot[983:]"
      ]
    },
    {
      "cell_type": "markdown",
      "id": "ad39a39e",
      "metadata": {
        "id": "ad39a39e"
      },
      "source": [
        "#### Txt locally\n",
        "If you'd rather use a file on your computer, here's the code -- you just need to save the text file in your local directory, and change the variables throughout.\n",
        "\n",
        "The example is a report from the [Congressional Research Service](https://www.everycrsreport.com/files/2020-11-10_R45178_62d6238caecf6c02ddf495be33b3439f09eed744.pdf) on AI and National Security."
      ]
    },
    {
      "cell_type": "raw",
      "id": "75fb27cd",
      "metadata": {
        "id": "75fb27cd"
      },
      "source": [
        "# read a file you have stored locally\n",
        "f = open(\"2020-11-10_CRS_ArtificialIntelligenceNationalSecurity.txt\", 'r').read()\n",
        "\n",
        "# first, remove unwanted new line and tab characters from the text\n",
        "for char in [\"\\n\", \"\\r\", \"\\d\", \"\\t\"]:\n",
        "    f = f.replace(char, \" \")\n",
        "\n",
        "# check\n",
        "print(f[:100])"
      ]
    },
    {
      "cell_type": "code",
      "execution_count": 13,
      "id": "8c4c9736",
      "metadata": {
        "colab": {
          "base_uri": "https://localhost:8080/"
        },
        "id": "8c4c9736",
        "outputId": "abfe6927-274e-4375-d8c5-3ced026e4e81"
      },
      "outputs": [
        {
          "output_type": "stream",
          "name": "stdout",
          "text": [
            "['_', 'de', 'conflans', 'is', 'an', 'elderly', 'person', 'who', 'for', 'the', 'past', 'forty', 'years', 'has', 'kept', 'a', 'lodginghouse', 'in', 'the', 'rue', 'nuevesaintegenevieve', 'in', 'the', 'district', 'that', 'lies', 'between', 'the', 'latin', 'quarter', 'and', 'the', 'faubourg', 'saintmarcel', 'her', 'house', 'known', 'in', 'the', 'neighborhood', 'as', 'the', '_maison', 'vauquer_', 'receives', 'men', 'and', 'women', 'old', 'and']\n"
          ]
        }
      ],
      "source": [
        "# this is simplified for demonstration\n",
        "def sample_clean_text(text: str):\n",
        "    # lowercase\n",
        "    text = text.lower()\n",
        "\n",
        "    # remove punctuation from text\n",
        "    text = re.sub(r\"[^\\w\\s]\", \"\", text)\n",
        "\n",
        "    # tokenize the text\n",
        "    tokens = nltk.word_tokenize(text)\n",
        "\n",
        "    # return your tokens\n",
        "    return tokens\n",
        "\n",
        "# call the function\n",
        "sample_tokens = sample_clean_text(text = father_goriot)\n",
        "\n",
        "# check\n",
        "print(sample_tokens[:50])"
      ]
    },
    {
      "cell_type": "code",
      "execution_count": 14,
      "id": "94d828dd",
      "metadata": {
        "id": "94d828dd",
        "outputId": "d8e20530-e834-4bb2-9143-72654c7b54b5",
        "colab": {
          "base_uri": "https://localhost:8080/"
        }
      },
      "outputs": [
        {
          "output_type": "execute_result",
          "data": {
            "text/plain": [
              "[('_', 'de'),\n",
              " ('de', 'conflans'),\n",
              " ('conflans', 'is'),\n",
              " ('is', 'an'),\n",
              " ('an', 'elderly'),\n",
              " ('elderly', 'person'),\n",
              " ('person', 'who'),\n",
              " ('who', 'for'),\n",
              " ('for', 'the'),\n",
              " ('the', 'past')]"
            ]
          },
          "metadata": {},
          "execution_count": 14
        }
      ],
      "source": [
        "# create bigrams from the sample tokens\n",
        "my_bigrams = bigrams(sample_tokens)\n",
        "\n",
        "# check\n",
        "list(my_bigrams)[:10]"
      ]
    },
    {
      "cell_type": "markdown",
      "id": "239deb54",
      "metadata": {
        "id": "239deb54"
      },
      "source": [
        "# Part 2 - creating an ngram model\n"
      ]
    },
    {
      "cell_type": "code",
      "execution_count": 15,
      "id": "9aba6849",
      "metadata": {
        "id": "9aba6849"
      },
      "outputs": [],
      "source": [
        "# 2 is for bigrams\n",
        "n = 2\n",
        "#specify the text you want to use\n",
        "text = father_goriot\n"
      ]
    },
    {
      "cell_type": "markdown",
      "id": "0be61c83",
      "metadata": {
        "id": "0be61c83"
      },
      "source": [
        "Now we are going to use an NLTK shortcut for preprocessing. This will:\n",
        "* pad all of the sentences with `<s>` and `</s>` to train on sentence boundaries, too.\n",
        "* create both unigrams and bigrams\n",
        "* create a training set and a full vocab to train on\n",
        "\n",
        "We need to give it a pre-tokenized text (we'll use nltk's tokenizer)"
      ]
    },
    {
      "cell_type": "code",
      "execution_count": 16,
      "id": "6276da8d",
      "metadata": {
        "id": "6276da8d",
        "outputId": "16a25c94-0581-4033-99e6-d519bbb1535d",
        "colab": {
          "base_uri": "https://localhost:8080/"
        }
      },
      "outputs": [
        {
          "output_type": "stream",
          "name": "stdout",
          "text": [
            "['_', 'de', 'conflans', ')', 'is', 'an', 'elderly', 'person', ',', 'who', 'for', 'the', 'past', 'forty', 'years', 'has', 'kept', 'a', 'lodging-house', 'in', 'the', 'rue', 'nueve-sainte-genevieve', ',', 'in', 'the', 'district', 'that', 'lies', 'between', 'the', 'latin', 'quarter', 'and', 'the', 'faubourg', 'saint-marcel', '.']\n"
          ]
        }
      ],
      "source": [
        "# step 1: tokenize the text into sentences\n",
        "sentences = nltk.sent_tokenize(text)\n",
        "\n",
        "# step 2: tokenize each sentence into words\n",
        "tokenized_sentences = [nltk.word_tokenize(sent) for sent in sentences]\n",
        "\n",
        "# step 3: convert each word to lowercase\n",
        "tokenized_text = [[word.lower() for word in sent] for sent in tokenized_sentences]\n",
        "\n",
        "#notice the sentence breaks and what the first 10 items of the tokenized text\n",
        "print(tokenized_text[0])"
      ]
    },
    {
      "cell_type": "markdown",
      "id": "b3b7a3de",
      "metadata": {
        "id": "b3b7a3de"
      },
      "source": [
        "Why tokenize sentences and words?\n",
        "We want to be able to retain sentence boundaries to encode that, too."
      ]
    },
    {
      "cell_type": "code",
      "execution_count": 18,
      "id": "9fbc5554",
      "metadata": {
        "id": "9fbc5554",
        "outputId": "f50e05d5-d16c-48c9-f725-e0498ee071e1",
        "colab": {
          "base_uri": "https://localhost:8080/"
        }
      },
      "outputs": [
        {
          "output_type": "stream",
          "name": "stdout",
          "text": [
            "_ de Confl\n"
          ]
        }
      ],
      "source": [
        "# notice what the first 10 items are of the vocabulary\n",
        "print(text[:10])"
      ]
    },
    {
      "cell_type": "code",
      "execution_count": 19,
      "id": "c306af37",
      "metadata": {
        "id": "c306af37"
      },
      "outputs": [],
      "source": [
        "# we imported this function from nltk\n",
        "train_data, padded_sents = padded_everygram_pipeline(n, tokenized_text)"
      ]
    },
    {
      "cell_type": "code",
      "execution_count": 20,
      "id": "ca61c962",
      "metadata": {
        "id": "ca61c962"
      },
      "outputs": [],
      "source": [
        "from nltk.lm import MLE\n",
        "# we imported this function from nltk linear models (lm)\n",
        "# it is for Maximum Likelihood Estimation\n",
        "\n",
        "# MLE is the model we will use\n",
        "lm = MLE(n)"
      ]
    },
    {
      "cell_type": "code",
      "execution_count": 21,
      "id": "c3ecfc43",
      "metadata": {
        "id": "c3ecfc43",
        "outputId": "c60e9cc2-4842-4a25-ff6f-53ae5c24c735",
        "colab": {
          "base_uri": "https://localhost:8080/"
        }
      },
      "outputs": [
        {
          "output_type": "execute_result",
          "data": {
            "text/plain": [
              "0"
            ]
          },
          "metadata": {},
          "execution_count": 21
        }
      ],
      "source": [
        "# currently the vocab length is 0: it has no prior knowledge\n",
        "len(lm.vocab)"
      ]
    },
    {
      "cell_type": "code",
      "execution_count": 22,
      "id": "141795d8",
      "metadata": {
        "id": "141795d8",
        "outputId": "655215e3-2dcd-468b-ff10-a09966b9646a",
        "colab": {
          "base_uri": "https://localhost:8080/"
        }
      },
      "outputs": [
        {
          "output_type": "execute_result",
          "data": {
            "text/plain": [
              "10279"
            ]
          },
          "metadata": {},
          "execution_count": 22
        }
      ],
      "source": [
        "# fit the model\n",
        "# training data is the bigrams and unigrams\n",
        "# the vocab is all the sentence tokens in the corpus\n",
        "\n",
        "lm.fit(train_data, padded_sents)\n",
        "len(lm.vocab)"
      ]
    },
    {
      "cell_type": "code",
      "execution_count": 23,
      "id": "941458b2",
      "metadata": {
        "id": "941458b2",
        "outputId": "7650ea54-83ff-4489-f32e-f69f1eae62ea",
        "colab": {
          "base_uri": "https://localhost:8080/"
        }
      },
      "outputs": [
        {
          "output_type": "stream",
          "name": "stdout",
          "text": [
            "('_', 'de', 'conflans', ')', 'is', 'an', 'elderly', 'person', ',', 'who', 'for', 'the', 'past', 'forty', 'years', 'has', 'kept', 'a', 'lodging-house', 'in', 'the', 'rue', 'nueve-sainte-genevieve', ',', 'in', 'the', 'district', 'that', 'lies', 'between', 'the', 'latin', 'quarter', 'and', 'the', 'faubourg', 'saint-marcel', '.')\n"
          ]
        }
      ],
      "source": [
        "# inspect the model's vocabulary.\n",
        "# be sure that a sentence you know exists (from tokenized_text) is in the\n",
        "print(lm.vocab.lookup(tokenized_text[0]))"
      ]
    },
    {
      "cell_type": "code",
      "execution_count": 24,
      "id": "d820f1f0",
      "metadata": {
        "id": "d820f1f0",
        "outputId": "23456ee0-c6f5-41d2-d227-fa93cf49d59e",
        "colab": {
          "base_uri": "https://localhost:8080/"
        }
      },
      "outputs": [
        {
          "output_type": "stream",
          "name": "stdout",
          "text": [
            "('then', 'wear', 'the', 'gold', 'hat', '<UNK>', '.')\n"
          ]
        }
      ],
      "source": [
        "# see what happens when we include a word that is not in the vocab.\n",
        "print(lm.vocab.lookup('then wear the gold hat iphone .'.split()))"
      ]
    },
    {
      "cell_type": "markdown",
      "id": "0207d680",
      "metadata": {
        "id": "0207d680"
      },
      "source": [
        "What did the model replace 'iphone' with?\n",
        "\n",
        "Given that it didn't just return an \"out of vocab\" error, what does that mean about our model?"
      ]
    },
    {
      "cell_type": "code",
      "execution_count": 29,
      "id": "da9cf2d4",
      "metadata": {
        "id": "da9cf2d4",
        "outputId": "e1b7ee62-54bf-4db3-c562-85cb55784829",
        "colab": {
          "base_uri": "https://localhost:8080/"
        }
      },
      "outputs": [
        {
          "output_type": "stream",
          "name": "stdout",
          "text": [
            "190\n"
          ]
        },
        {
          "output_type": "execute_result",
          "data": {
            "text/plain": [
              "0.0030181086519114686"
            ]
          },
          "metadata": {},
          "execution_count": 29
        }
      ],
      "source": [
        "# how many times does eugene appear in the model?\n",
        "print(lm.counts['eugene'])\n",
        "\n",
        "# what is the probability of eugene appearing?\n",
        "# this is technically the relative frequency of daisy appearing\n",
        "lm.score('eugene')"
      ]
    },
    {
      "cell_type": "code",
      "execution_count": 30,
      "id": "f9369bed",
      "metadata": {
        "id": "f9369bed",
        "outputId": "3aefd118-3e92-4bbb-cc47-8f0fa013f8c2",
        "colab": {
          "base_uri": "https://localhost:8080/"
        }
      },
      "outputs": [
        {
          "output_type": "stream",
          "name": "stdout",
          "text": [
            "9\n"
          ]
        },
        {
          "output_type": "execute_result",
          "data": {
            "text/plain": [
              "0.022058823529411766"
            ]
          },
          "metadata": {},
          "execution_count": 30
        }
      ],
      "source": [
        "# how often does (eugene, and) occur and what is the relative frequency?\n",
        "print(lm.counts[['eugene']]['and'])\n",
        "lm.score('and', 'eugene'.split())"
      ]
    },
    {
      "cell_type": "code",
      "execution_count": 31,
      "id": "174f226e",
      "metadata": {
        "id": "174f226e",
        "outputId": "1ab37238-d838-4cf2-90f6-e78d1fcab773",
        "colab": {
          "base_uri": "https://localhost:8080/"
        }
      },
      "outputs": [
        {
          "output_type": "execute_result",
          "data": {
            "text/plain": [
              "0.0"
            ]
          },
          "metadata": {},
          "execution_count": 31
        }
      ],
      "source": [
        "# what is the score of 'UNK'?\n",
        "\n",
        "lm.score(\"<UNK>\")"
      ]
    },
    {
      "cell_type": "markdown",
      "id": "d84c0444",
      "metadata": {
        "id": "d84c0444"
      },
      "source": [
        "Does the relative frequency of 'UNK' change your assumption about how the model behaves?\n",
        "\n",
        "How should we change our model to account for the fact the `<UNK>` words are not accounted for by the model?\n",
        "\n",
        "Note: *Programmatically implementing this solution is beyond the scope of this course.*"
      ]
    },
    {
      "cell_type": "markdown",
      "id": "5d621b05",
      "metadata": {
        "id": "5d621b05"
      },
      "source": [
        "## Generate text\n",
        "We want to start our sentence with a word, and use that to predict all the words that come after that. We'll specify how long it should be.\n",
        "\n",
        "There is a certain amount of randomness encoded into n-gram models. This prevents a model from becoming entirely deterministic. Maximum Likelihood Estimation without some degree of randomness will only produce the most likely result every time. Setting Random Seed means we will get the same result every time."
      ]
    },
    {
      "cell_type": "code",
      "execution_count": 32,
      "id": "6e217db6",
      "metadata": {
        "id": "6e217db6",
        "outputId": "7e366186-10aa-4fd4-d596-24b3d65a1640",
        "colab": {
          "base_uri": "https://localhost:8080/"
        }
      },
      "outputs": [
        {
          "output_type": "stream",
          "name": "stdout",
          "text": [
            "['of', 'a', 'fortune', ',', 'those', 'that', 'was', 'a', 'life', ',', 'as', 'it', ',', 'and', 'saw', 'ten', 'francs', 'at', 'the', 'action']\n"
          ]
        }
      ],
      "source": [
        "# generate a 20 word sentence starting with the word, 'eugene'\n",
        "\n",
        "print(lm.generate(20, text_seed= 'eugene', random_seed=42))"
      ]
    },
    {
      "cell_type": "markdown",
      "id": "8e91b7a6",
      "metadata": {
        "id": "8e91b7a6"
      },
      "source": [
        "This next code block is just to clean up the tokenized words and make them easier on human eyes. It is literally a detokenizer, which removes some extraneous text markup and reconciles some words back together."
      ]
    },
    {
      "cell_type": "code",
      "execution_count": 33,
      "id": "5113674e",
      "metadata": {
        "id": "5113674e"
      },
      "outputs": [],
      "source": [
        "from nltk.tokenize.treebank import TreebankWordDetokenizer\n",
        "\n",
        "detokenize = TreebankWordDetokenizer().detokenize\n",
        "\n",
        "def generate_sent(lm, num_words, text_seed, random_seed=42):\n",
        "    \"\"\"\n",
        "    :param model: An ngram language model from `nltk.lm.model`.\n",
        "    :param num_words: Max no. of words to generate.\n",
        "    :param random_seed: Seed value for random.\n",
        "    \"\"\"\n",
        "    content = []\n",
        "    for token in lm.generate(num_words, text_seed=text_seed, random_seed=random_seed):\n",
        "        if token == '<s>':\n",
        "            continue\n",
        "        if token == '</s>':\n",
        "            break\n",
        "        content.append(token)\n",
        "    return detokenize(content)"
      ]
    },
    {
      "cell_type": "code",
      "execution_count": 34,
      "id": "2846e34e",
      "metadata": {
        "id": "2846e34e",
        "outputId": "3b40fdcd-f7c8-4116-8b8b-5e4eb6409a04",
        "colab": {
          "base_uri": "https://localhost:8080/",
          "height": 35
        }
      },
      "outputs": [
        {
          "output_type": "execute_result",
          "data": {
            "text/plain": [
              "'of a fortune, those that was a life, as it, and saw ten francs at the action'"
            ],
            "application/vnd.google.colaboratory.intrinsic+json": {
              "type": "string"
            }
          },
          "metadata": {},
          "execution_count": 34
        }
      ],
      "source": [
        "# Now generate sentences that look much nicer.\n",
        "generate_sent(lm, 20, text_seed='eugene', random_seed = 42)"
      ]
    },
    {
      "cell_type": "markdown",
      "id": "173ad126",
      "metadata": {
        "id": "173ad126"
      },
      "source": [
        "Try a few more sentences, and try out another text. Once you are satisfied with what ngrams can (and cannot) do - post your code to your Github or another site."
      ]
    }
  ],
  "metadata": {
    "kernelspec": {
      "display_name": "Python 3 (ipykernel)",
      "language": "python",
      "name": "python3"
    },
    "language_info": {
      "codemirror_mode": {
        "name": "ipython",
        "version": 3
      },
      "file_extension": ".py",
      "mimetype": "text/x-python",
      "name": "python",
      "nbconvert_exporter": "python",
      "pygments_lexer": "ipython3",
      "version": "3.11.3"
    },
    "colab": {
      "provenance": [],
      "include_colab_link": true
    }
  },
  "nbformat": 4,
  "nbformat_minor": 5
}