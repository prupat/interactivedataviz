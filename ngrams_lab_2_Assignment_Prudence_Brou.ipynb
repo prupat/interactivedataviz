{
  "cells": [
    {
      "cell_type": "markdown",
      "metadata": {
        "id": "view-in-github",
        "colab_type": "text"
      },
      "source": [
        "<a href=\"https://colab.research.google.com/github/prupat/interactivedataviz/blob/main/ngrams_lab_2_Assignment_Prudence_Brou.ipynb\" target=\"_parent\"><img src=\"https://colab.research.google.com/assets/colab-badge.svg\" alt=\"Open In Colab\"/></a>"
      ]
    },
    {
      "cell_type": "code",
      "execution_count": 1,
      "id": "ef35858b",
      "metadata": {
        "id": "ef35858b",
        "colab": {
          "base_uri": "https://localhost:8080/"
        },
        "outputId": "61ddce67-049c-4523-8f90-052056da9ef6"
      },
      "outputs": [
        {
          "output_type": "stream",
          "name": "stderr",
          "text": [
            "[nltk_data] Downloading package punkt to /root/nltk_data...\n",
            "[nltk_data]   Unzipping tokenizers/punkt.zip.\n"
          ]
        }
      ],
      "source": [
        "import numpy as np\n",
        "import re\n",
        "\n",
        "import nltk\n",
        "# if you haven't downloaded punkt before, you only need to run the line below once\n",
        "#nltk.download('punkt')\n",
        "from nltk import word_tokenize\n",
        "from nltk import sent_tokenize\n",
        "nltk.download('punkt')\n",
        "\n",
        "from nltk.util import bigrams\n",
        "from nltk.lm.preprocessing import padded_everygram_pipeline\n",
        "\n",
        "import requests"
      ]
    },
    {
      "cell_type": "markdown",
      "source": [],
      "metadata": {
        "id": "_VjCiUHs8V5r"
      },
      "id": "_VjCiUHs8V5r"
    },
    {
      "cell_type": "markdown",
      "id": "e7017636",
      "metadata": {
        "id": "e7017636"
      },
      "source": [
        "# Part 1\n",
        "An example of how ngrams are generated"
      ]
    },
    {
      "cell_type": "code",
      "execution_count": 2,
      "id": "de8054bf",
      "metadata": {
        "colab": {
          "base_uri": "https://localhost:8080/"
        },
        "id": "de8054bf",
        "outputId": "7e25bd76-4c2e-41ad-eca0-06ae68acc6bb"
      },
      "outputs": [
        {
          "output_type": "stream",
          "name": "stdout",
          "text": [
            "ï»¿The Project Gutenberg EBook of Father Goriot, by Honore de Balzac    This eBook is for the use of\n"
          ]
        }
      ],
      "source": [
        "# you will need to leverage the requests package\n",
        "r = requests.get(r'https://www.gutenberg.org/files/1237/1237-0.txt')\n",
        "father_goriot = r.text\n",
        "\n",
        "# first, remove unwanted new line and tab characters from the text\n",
        "for char in [\"\\n\", \"\\r\", \"\\d\", \"\\t\"]:\n",
        "    father_goriot = father_goriot.replace(char, \" \")\n",
        "\n",
        "# check\n",
        "print(father_goriot[:100])\n"
      ]
    },
    {
      "cell_type": "code",
      "execution_count": 3,
      "id": "886ac257",
      "metadata": {
        "id": "886ac257"
      },
      "outputs": [],
      "source": [
        "# remove the metadata at the beginning - this is slightly different for each book\n",
        "father_goriot = father_goriot[983:]"
      ]
    },
    {
      "cell_type": "markdown",
      "id": "ad39a39e",
      "metadata": {
        "id": "ad39a39e"
      },
      "source": [
        "#### Txt locally\n",
        "If you'd rather use a file on your computer, here's the code -- you just need to save the text file in your local directory, and change the variables throughout.\n",
        "\n",
        "The example is a report from the [Congressional Research Service](https://www.everycrsreport.com/files/2020-11-10_R45178_62d6238caecf6c02ddf495be33b3439f09eed744.pdf) on AI and National Security."
      ]
    },
    {
      "cell_type": "raw",
      "id": "75fb27cd",
      "metadata": {
        "id": "75fb27cd"
      },
      "source": [
        "# read a file you have stored locally\n",
        "f = open(\"2020-11-10_CRS_ArtificialIntelligenceNationalSecurity.txt\", 'r').read()\n",
        "\n",
        "# first, remove unwanted new line and tab characters from the text\n",
        "for char in [\"\\n\", \"\\r\", \"\\d\", \"\\t\"]:\n",
        "    f = f.replace(char, \" \")\n",
        "\n",
        "# check\n",
        "print(f[:100])"
      ]
    },
    {
      "cell_type": "code",
      "execution_count": 6,
      "id": "8c4c9736",
      "metadata": {
        "colab": {
          "base_uri": "https://localhost:8080/"
        },
        "id": "8c4c9736",
        "outputId": "7b31c94c-9be1-4c7a-c2ce-d69cc71f4995"
      },
      "outputs": [
        {
          "output_type": "stream",
          "name": "stdout",
          "text": [
            "['_', 'de', 'conflans', 'is', 'an', 'elderly', 'person', 'who', 'for', 'the', 'past', 'forty', 'years', 'has', 'kept', 'a', 'lodginghouse', 'in', 'the', 'rue', 'nuevesaintegenevieve', 'in', 'the', 'district', 'that', 'lies', 'between', 'the', 'latin', 'quarter', 'and', 'the', 'faubourg', 'saintmarcel', 'her', 'house', 'known', 'in', 'the', 'neighborhood', 'as', 'the', '_maison', 'vauquer_', 'receives', 'men', 'and', 'women', 'old', 'and']\n"
          ]
        }
      ],
      "source": [
        "# this is simplified for demonstration\n",
        "def sample_clean_text(text: str):\n",
        "    # lowercase\n",
        "    text = text.lower()\n",
        "\n",
        "    # remove punctuation from text\n",
        "    text2 = re.sub(r\"[^\\w\\s]\", \"\", text)\n",
        "\n",
        "    # tokenize the text\n",
        "    tokens = nltk.word_tokenize(text2)\n",
        "\n",
        "    # return your tokens\n",
        "    return tokens\n",
        "\n",
        "# call the function\n",
        "sample_tokens = sample_clean_text(text = father_goriot)\n",
        "\n",
        "# check\n",
        "print(sample_tokens[:50])"
      ]
    },
    {
      "cell_type": "code",
      "execution_count": 8,
      "id": "94d828dd",
      "metadata": {
        "id": "94d828dd",
        "outputId": "51282210-5b1d-4da5-b585-0e9d2616de69",
        "colab": {
          "base_uri": "https://localhost:8080/"
        }
      },
      "outputs": [
        {
          "output_type": "execute_result",
          "data": {
            "text/plain": [
              "[('_', 'de'),\n",
              " ('de', 'conflans'),\n",
              " ('conflans', 'is'),\n",
              " ('is', 'an'),\n",
              " ('an', 'elderly'),\n",
              " ('elderly', 'person'),\n",
              " ('person', 'who'),\n",
              " ('who', 'for'),\n",
              " ('for', 'the'),\n",
              " ('the', 'past'),\n",
              " ('past', 'forty'),\n",
              " ('forty', 'years'),\n",
              " ('years', 'has'),\n",
              " ('has', 'kept'),\n",
              " ('kept', 'a'),\n",
              " ('a', 'lodginghouse'),\n",
              " ('lodginghouse', 'in'),\n",
              " ('in', 'the'),\n",
              " ('the', 'rue'),\n",
              " ('rue', 'nuevesaintegenevieve'),\n",
              " ('nuevesaintegenevieve', 'in'),\n",
              " ('in', 'the'),\n",
              " ('the', 'district'),\n",
              " ('district', 'that'),\n",
              " ('that', 'lies'),\n",
              " ('lies', 'between'),\n",
              " ('between', 'the'),\n",
              " ('the', 'latin'),\n",
              " ('latin', 'quarter'),\n",
              " ('quarter', 'and')]"
            ]
          },
          "metadata": {},
          "execution_count": 8
        }
      ],
      "source": [
        "# create bigrams from the sample tokens\n",
        "my_bigrams = bigrams(sample_tokens)\n",
        "\n",
        "# check\n",
        "list(my_bigrams)[:30]"
      ]
    },
    {
      "cell_type": "markdown",
      "id": "239deb54",
      "metadata": {
        "id": "239deb54"
      },
      "source": [
        "# Part 2 - creating an ngram model\n"
      ]
    },
    {
      "cell_type": "code",
      "execution_count": 9,
      "id": "9aba6849",
      "metadata": {
        "id": "9aba6849"
      },
      "outputs": [],
      "source": [
        "# 2 is for bigrams\n",
        "n = 2\n",
        "#specify the text you want to use\n",
        "text = father_goriot\n"
      ]
    },
    {
      "cell_type": "markdown",
      "id": "0be61c83",
      "metadata": {
        "id": "0be61c83"
      },
      "source": [
        "Now we are going to use an NLTK shortcut for preprocessing. This will:\n",
        "* pad all of the sentences with `<s>` and `</s>` to train on sentence boundaries, too.\n",
        "* create both unigrams and bigrams\n",
        "* create a training set and a full vocab to train on\n",
        "\n",
        "We need to give it a pre-tokenized text (we'll use nltk's tokenizer)"
      ]
    },
    {
      "cell_type": "code",
      "execution_count": 10,
      "id": "6276da8d",
      "metadata": {
        "id": "6276da8d",
        "outputId": "8a00ddb4-91e0-4848-8862-0873243ec964",
        "colab": {
          "base_uri": "https://localhost:8080/"
        }
      },
      "outputs": [
        {
          "output_type": "stream",
          "name": "stdout",
          "text": [
            "['_', 'de', 'conflans', ')', 'is', 'an', 'elderly', 'person', ',', 'who', 'for', 'the', 'past', 'forty', 'years', 'has', 'kept', 'a', 'lodging-house', 'in', 'the', 'rue', 'nueve-sainte-genevieve', ',', 'in', 'the', 'district', 'that', 'lies', 'between', 'the', 'latin', 'quarter', 'and', 'the', 'faubourg', 'saint-marcel', '.']\n"
          ]
        }
      ],
      "source": [
        "# step 1: tokenize the text into sentences\n",
        "sentences = nltk.sent_tokenize(text)\n",
        "\n",
        "# step 2: tokenize each sentence into words\n",
        "tokenized_sentences = [nltk.word_tokenize(sent) for sent in sentences]\n",
        "\n",
        "# step 3: convert each word to lowercase\n",
        "tokenized_text = [[word.lower() for word in sent] for sent in tokenized_sentences]\n",
        "\n",
        "#notice the sentence breaks and what the first 10 items of the tokenized text\n",
        "print(tokenized_text[0])"
      ]
    },
    {
      "cell_type": "markdown",
      "id": "b3b7a3de",
      "metadata": {
        "id": "b3b7a3de"
      },
      "source": [
        "Why tokenize sentences and words?\n",
        "We want to be able to retain sentence boundaries to encode that, too."
      ]
    },
    {
      "cell_type": "code",
      "execution_count": 13,
      "id": "9fbc5554",
      "metadata": {
        "id": "9fbc5554",
        "outputId": "f99cc8a6-94ab-4f02-aeb8-70e0aeb0ec5a",
        "colab": {
          "base_uri": "https://localhost:8080/"
        }
      },
      "outputs": [
        {
          "output_type": "stream",
          "name": "stdout",
          "text": [
            "_ de Conflans) is an\n"
          ]
        }
      ],
      "source": [
        "# notice what the first 20 items are of the vocabulary\n",
        "print(text[:20])"
      ]
    },
    {
      "cell_type": "code",
      "execution_count": 14,
      "id": "c306af37",
      "metadata": {
        "id": "c306af37"
      },
      "outputs": [],
      "source": [
        "# we imported this function from nltk\n",
        "train_data, padded_sents = padded_everygram_pipeline(n, tokenized_text)"
      ]
    },
    {
      "cell_type": "code",
      "execution_count": 15,
      "id": "ca61c962",
      "metadata": {
        "id": "ca61c962"
      },
      "outputs": [],
      "source": [
        "from nltk.lm import MLE\n",
        "# we imported this function from nltk linear models (lm)\n",
        "# it is for Maximum Likelihood Estimation\n",
        "\n",
        "# MLE is the model we will use\n",
        "lm = MLE(n)"
      ]
    },
    {
      "cell_type": "code",
      "execution_count": 16,
      "id": "c3ecfc43",
      "metadata": {
        "id": "c3ecfc43",
        "outputId": "eb45bfe9-9ab9-4f29-e804-f02dc6da353f",
        "colab": {
          "base_uri": "https://localhost:8080/"
        }
      },
      "outputs": [
        {
          "output_type": "execute_result",
          "data": {
            "text/plain": [
              "0"
            ]
          },
          "metadata": {},
          "execution_count": 16
        }
      ],
      "source": [
        "# currently the vocab length is 0: it has no prior knowledge\n",
        "len(lm.vocab)"
      ]
    },
    {
      "cell_type": "code",
      "execution_count": 17,
      "id": "141795d8",
      "metadata": {
        "id": "141795d8",
        "outputId": "b004334f-ed3e-4941-ad4c-b97828d32093",
        "colab": {
          "base_uri": "https://localhost:8080/"
        }
      },
      "outputs": [
        {
          "output_type": "execute_result",
          "data": {
            "text/plain": [
              "10279"
            ]
          },
          "metadata": {},
          "execution_count": 17
        }
      ],
      "source": [
        "# fit the model\n",
        "# training data is the bigrams and unigrams\n",
        "# the vocab is all the sentence tokens in the corpus\n",
        "\n",
        "lm.fit(train_data, padded_sents)\n",
        "len(lm.vocab)"
      ]
    },
    {
      "cell_type": "code",
      "execution_count": 18,
      "id": "941458b2",
      "metadata": {
        "id": "941458b2",
        "outputId": "f4aa7c4b-4dd0-401e-f564-7479d8331524",
        "colab": {
          "base_uri": "https://localhost:8080/"
        }
      },
      "outputs": [
        {
          "output_type": "stream",
          "name": "stdout",
          "text": [
            "('_', 'de', 'conflans', ')', 'is', 'an', 'elderly', 'person', ',', 'who', 'for', 'the', 'past', 'forty', 'years', 'has', 'kept', 'a', 'lodging-house', 'in', 'the', 'rue', 'nueve-sainte-genevieve', ',', 'in', 'the', 'district', 'that', 'lies', 'between', 'the', 'latin', 'quarter', 'and', 'the', 'faubourg', 'saint-marcel', '.')\n"
          ]
        }
      ],
      "source": [
        "# inspect the model's vocabulary.\n",
        "# be sure that a sentence you know exists (from tokenized_text) is in the\n",
        "print(lm.vocab.lookup(tokenized_text[0]))"
      ]
    },
    {
      "cell_type": "code",
      "execution_count": null,
      "id": "d820f1f0",
      "metadata": {
        "id": "d820f1f0",
        "outputId": "23456ee0-c6f5-41d2-d227-fa93cf49d59e",
        "colab": {
          "base_uri": "https://localhost:8080/"
        }
      },
      "outputs": [
        {
          "output_type": "stream",
          "name": "stdout",
          "text": [
            "('then', 'wear', 'the', 'gold', 'hat', '<UNK>', '.')\n"
          ]
        }
      ],
      "source": [
        "# see what happens when we include a word that is not in the vocab.\n",
        "print(lm.vocab.lookup('then wear the gold hat iphone .'.split()))"
      ]
    },
    {
      "cell_type": "markdown",
      "id": "0207d680",
      "metadata": {
        "id": "0207d680"
      },
      "source": [
        "What did the model replace 'iphone' with?\n",
        "\n",
        "Ans: The model replace 'iphone' with `<UNK>`\n",
        "\n",
        "Given that it didn't just return an \"out of vocab\" error, what does that mean about our model?\n",
        "\n",
        "Ans: The model recognized 'iphone' as out of its vocabulary and replaced it with the `<UNK>` token.The model doesn't have specific information about 'iphone' in its training data, so it treats it as an unknown word."
      ]
    },
    {
      "cell_type": "code",
      "execution_count": 19,
      "id": "da9cf2d4",
      "metadata": {
        "id": "da9cf2d4",
        "outputId": "a66d7993-f4e9-4acc-f40b-34ce9788411c",
        "colab": {
          "base_uri": "https://localhost:8080/"
        }
      },
      "outputs": [
        {
          "output_type": "stream",
          "name": "stdout",
          "text": [
            "408\n"
          ]
        },
        {
          "output_type": "execute_result",
          "data": {
            "text/plain": [
              "0.0030181086519114686"
            ]
          },
          "metadata": {},
          "execution_count": 19
        }
      ],
      "source": [
        "# how many times does eugene appear in the model?\n",
        "print(lm.counts['eugene'])\n",
        "\n",
        "# what is the probability of eugene appearing?\n",
        "# this is technically the relative frequency of eugene appearing\n",
        "lm.score('eugene')"
      ]
    },
    {
      "cell_type": "code",
      "execution_count": 20,
      "id": "f9369bed",
      "metadata": {
        "id": "f9369bed",
        "outputId": "e1a084fe-bcfc-4a97-a079-a13fe47b3cd1",
        "colab": {
          "base_uri": "https://localhost:8080/"
        }
      },
      "outputs": [
        {
          "output_type": "stream",
          "name": "stdout",
          "text": [
            "9\n"
          ]
        },
        {
          "output_type": "execute_result",
          "data": {
            "text/plain": [
              "0.022058823529411766"
            ]
          },
          "metadata": {},
          "execution_count": 20
        }
      ],
      "source": [
        "# how often does (eugene, and) occur and what is the relative frequency?\n",
        "print(lm.counts[['eugene']]['and'])\n",
        "lm.score('and', 'eugene'.split())"
      ]
    },
    {
      "cell_type": "code",
      "execution_count": 21,
      "id": "174f226e",
      "metadata": {
        "id": "174f226e",
        "outputId": "c0c9c158-6549-4659-ecec-4d10227d6b59",
        "colab": {
          "base_uri": "https://localhost:8080/"
        }
      },
      "outputs": [
        {
          "output_type": "execute_result",
          "data": {
            "text/plain": [
              "0.0"
            ]
          },
          "metadata": {},
          "execution_count": 21
        }
      ],
      "source": [
        "# what is the score of 'UNK'?\n",
        "\n",
        "lm.score(\"<UNK>\")"
      ]
    },
    {
      "cell_type": "markdown",
      "id": "d84c0444",
      "metadata": {
        "id": "d84c0444"
      },
      "source": [
        "Does the relative frequency of `<UNK>`' change your assumption about how the model behaves?\n",
        "\n",
        "Ans: No, it doesn't change my assumption because the relative frequency of `<UNK>` being very low in the model's output indicates that it encountered this token infrequently during the calculation of the score. `<UNK>` represents rare or unknown words.\n",
        "\n",
        "How should we change our model to account for the fact the `<UNK>` words are not accounted for by the model?\n",
        "\n",
        "Ans: Perhaps, we could expand the vocabulary of the model to include important out-of-vocabulary words. This could involve retraining the model with a larger vocabulary that covers relevant terms like 'iphone' and other words.\n",
        "\n",
        "Note: *Programmatically implementing this solution is beyond the scope of this course.*"
      ]
    },
    {
      "cell_type": "markdown",
      "id": "5d621b05",
      "metadata": {
        "id": "5d621b05"
      },
      "source": [
        "## Generate text\n",
        "We want to start our sentence with a word, and use that to predict all the words that come after that. We'll specify how long it should be.\n",
        "\n",
        "There is a certain amount of randomness encoded into n-gram models. This prevents a model from becoming entirely deterministic. Maximum Likelihood Estimation without some degree of randomness will only produce the most likely result every time. Setting Random Seed means we will get the same result every time."
      ]
    },
    {
      "cell_type": "code",
      "execution_count": 27,
      "id": "6e217db6",
      "metadata": {
        "id": "6e217db6",
        "outputId": "3f597559-6050-4439-b12f-161daef9f7b2",
        "colab": {
          "base_uri": "https://localhost:8080/"
        }
      },
      "outputs": [
        {
          "output_type": "stream",
          "name": "stdout",
          "text": [
            "['of', 'a', 'fortune', ',', 'those', 'that', 'was', 'a', 'life', ',', 'as', 'it', ',', 'and', 'saw', 'ten', 'francs', 'at', 'the', 'action']\n"
          ]
        }
      ],
      "source": [
        "# generate a 20 word sentence starting with the word, 'eugene'\n",
        "\n",
        "print(lm.generate(20, text_seed= 'eugene', random_seed=42))"
      ]
    },
    {
      "cell_type": "markdown",
      "id": "8e91b7a6",
      "metadata": {
        "id": "8e91b7a6"
      },
      "source": [
        "This next code block is just to clean up the tokenized words and make them easier on human eyes. It is literally a detokenizer, which removes some extraneous text markup and reconciles some words back together."
      ]
    },
    {
      "cell_type": "code",
      "execution_count": 28,
      "id": "5113674e",
      "metadata": {
        "id": "5113674e"
      },
      "outputs": [],
      "source": [
        "from nltk.tokenize.treebank import TreebankWordDetokenizer\n",
        "\n",
        "detokenize = TreebankWordDetokenizer().detokenize\n",
        "\n",
        "def generate_sent(lm, num_words, text_seed, random_seed=42):\n",
        "    \"\"\"\n",
        "    :param model: An ngram language model from `nltk.lm.model`.\n",
        "    :param num_words: Max no. of words to generate.\n",
        "    :param random_seed: Seed value for random.\n",
        "    \"\"\"\n",
        "    content = []\n",
        "    for token in lm.generate(num_words, text_seed=text_seed, random_seed=random_seed):\n",
        "        if token == '<s>':\n",
        "            continue\n",
        "        if token == '</s>':\n",
        "            break\n",
        "        content.append(token)\n",
        "    return detokenize(content)"
      ]
    },
    {
      "cell_type": "code",
      "execution_count": 33,
      "id": "2846e34e",
      "metadata": {
        "id": "2846e34e",
        "outputId": "681273aa-feac-409e-fe0d-10e1c8e201bf",
        "colab": {
          "base_uri": "https://localhost:8080/",
          "height": 35
        }
      },
      "outputs": [
        {
          "output_type": "execute_result",
          "data": {
            "text/plain": [
              "'of a fortune, those that was a life, as it, and saw ten francs at the action'"
            ],
            "application/vnd.google.colaboratory.intrinsic+json": {
              "type": "string"
            }
          },
          "metadata": {},
          "execution_count": 33
        }
      ],
      "source": [
        "# Now generate sentences that look much nicer.\n",
        "generate_sent(lm, 20, text_seed='eugene', random_seed = 42)"
      ]
    },
    {
      "cell_type": "markdown",
      "id": "173ad126",
      "metadata": {
        "id": "173ad126"
      },
      "source": [
        "Try a few more sentences, and try out another text. Once you are satisfied with what ngrams can (and cannot) do - post your code to your Github or another site."
      ]
    },
    {
      "cell_type": "code",
      "source": [
        "# generate a 20 word sentence starting with the word, 'eugene'\n",
        "\n",
        "print(lm.generate(20, text_seed= 'eugene', random_seed=123))"
      ],
      "metadata": {
        "colab": {
          "base_uri": "https://localhost:8080/"
        },
        "id": "4GL_W3XpPlm8",
        "outputId": "bb975856-2aee-4cc0-af61-da7d21258183"
      },
      "id": "4GL_W3XpPlm8",
      "execution_count": 56,
      "outputs": [
        {
          "output_type": "stream",
          "name": "stdout",
          "text": [
            "[',', 'and', 'i', 'am', 'too', ',', 'my', 'father', 'is', 'all', 'inclined', 'to', 'eugene', '!', '</s>', '.', '</s>', '.', '</s>', 'have']\n"
          ]
        }
      ]
    },
    {
      "cell_type": "code",
      "source": [
        "# Now generate sentences that look much nicer.\n",
        "generate_sent(lm, 20, text_seed='eugene', random_seed = 123)"
      ],
      "metadata": {
        "colab": {
          "base_uri": "https://localhost:8080/",
          "height": 35
        },
        "id": "JvFGJthPPwIc",
        "outputId": "700d9955-037d-4ee6-ff08-db860f15af26"
      },
      "id": "JvFGJthPPwIc",
      "execution_count": 57,
      "outputs": [
        {
          "output_type": "execute_result",
          "data": {
            "text/plain": [
              "', and i am too, my father is all inclined to eugene!'"
            ],
            "application/vnd.google.colaboratory.intrinsic+json": {
              "type": "string"
            }
          },
          "metadata": {},
          "execution_count": 57
        }
      ]
    },
    {
      "cell_type": "code",
      "source": [
        "# generate a 30 word sentence starting with the word, 'rastignac'\n",
        "\n",
        "print(lm.generate(30, text_seed= 'rastignac', random_seed=456))"
      ],
      "metadata": {
        "colab": {
          "base_uri": "https://localhost:8080/"
        },
        "id": "Mvo15BIEODt8",
        "outputId": "0f9f716d-6768-467a-92ab-b0912120d2b4"
      },
      "id": "Mvo15BIEODt8",
      "execution_count": 55,
      "outputs": [
        {
          "output_type": "stream",
          "name": "stdout",
          "text": [
            "[')', 'you', 'had', 'sent', 'therese', 'came', 'to', 'that', 'vautrin', '.', '</s>', '</s>', 'him', 'attentively', ',', 'and', 'distributing', 'any', 'one', 'passion', 'is', 'unconscious.â\\x80\\x9d', 'â\\x80\\x9cpoor', 'nasie', 'was', 'standing', ',', 'my', 'fortune', 'were']\n"
          ]
        }
      ]
    },
    {
      "cell_type": "code",
      "source": [
        "# Now generate sentences that look much nicer.\n",
        "generate_sent(lm, 30, text_seed='rastignac', random_seed = 456)"
      ],
      "metadata": {
        "colab": {
          "base_uri": "https://localhost:8080/",
          "height": 35
        },
        "id": "pwAZHbXTOSGI",
        "outputId": "56d0c0dd-1aa1-4596-cb04-4f2408c4848c"
      },
      "id": "pwAZHbXTOSGI",
      "execution_count": 52,
      "outputs": [
        {
          "output_type": "execute_result",
          "data": {
            "text/plain": [
              "') you had sent therese came to that vautrin.'"
            ],
            "application/vnd.google.colaboratory.intrinsic+json": {
              "type": "string"
            }
          },
          "metadata": {},
          "execution_count": 52
        }
      ]
    },
    {
      "cell_type": "code",
      "source": [
        "# generate a 30 word sentence starting with the word, 'ambition'\n",
        "\n",
        "print(lm.generate(30, text_seed= 'ambition', random_seed=90))"
      ],
      "metadata": {
        "colab": {
          "base_uri": "https://localhost:8080/"
        },
        "id": "qLbjjbvgRuS_",
        "outputId": "7ff1e3b4-0b6a-4ac0-d1e4-18631c010069"
      },
      "id": "qLbjjbvgRuS_",
      "execution_count": 53,
      "outputs": [
        {
          "output_type": "stream",
          "name": "stdout",
          "text": [
            "['a', 'chill', 'through', 'the', 'poor', 'father', 'goriot', 'was', 'still', 'free', 'again', ',', 'they', 'are', 'rich', 'to', 'the', 'house', 'surgeon', ',', 'was', 'among', 'them', '!', '</s>', 'whether', 'it', ',', 'i', '--']\n"
          ]
        }
      ]
    },
    {
      "cell_type": "code",
      "source": [
        "# Now generate sentences that look much nicer.\n",
        "generate_sent(lm, 30, text_seed='ambition', random_seed = 90)"
      ],
      "metadata": {
        "colab": {
          "base_uri": "https://localhost:8080/",
          "height": 35
        },
        "id": "oauzWy_zSGFX",
        "outputId": "60f576d3-cd77-49f5-b6a5-6b356e9536df"
      },
      "id": "oauzWy_zSGFX",
      "execution_count": 54,
      "outputs": [
        {
          "output_type": "execute_result",
          "data": {
            "text/plain": [
              "'a chill through the poor father goriot was still free again, they are rich to the house surgeon, was among them!'"
            ],
            "application/vnd.google.colaboratory.intrinsic+json": {
              "type": "string"
            }
          },
          "metadata": {},
          "execution_count": 54
        }
      ]
    }
  ],
  "metadata": {
    "kernelspec": {
      "display_name": "Python 3 (ipykernel)",
      "language": "python",
      "name": "python3"
    },
    "language_info": {
      "codemirror_mode": {
        "name": "ipython",
        "version": 3
      },
      "file_extension": ".py",
      "mimetype": "text/x-python",
      "name": "python",
      "nbconvert_exporter": "python",
      "pygments_lexer": "ipython3",
      "version": "3.11.3"
    },
    "colab": {
      "provenance": [],
      "include_colab_link": true
    }
  },
  "nbformat": 4,
  "nbformat_minor": 5
}